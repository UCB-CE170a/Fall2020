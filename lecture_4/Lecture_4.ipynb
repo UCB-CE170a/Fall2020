{
  "nbformat": 4,
  "nbformat_minor": 0,
  "metadata": {
    "kernelspec": {
      "display_name": "Python 3",
      "language": "python",
      "name": "python3"
    },
    "language_info": {
      "codemirror_mode": {
        "name": "ipython",
        "version": 3
      },
      "file_extension": ".py",
      "mimetype": "text/x-python",
      "name": "python",
      "nbconvert_exporter": "python",
      "pygments_lexer": "ipython3",
      "version": "3.8.5"
    },
    "colab": {
      "name": "Lecture_4.ipynb",
      "provenance": [],
      "toc_visible": true
    }
  },
  "cells": [
    {
      "cell_type": "markdown",
      "metadata": {
        "id": "USZV4jGZCBGD"
      },
      "source": [
        "### Lecture 4\n",
        "\n",
        "- Exercise 1. Geometry construction\n",
        "- Exercise 2. Coordinate transformation\n",
        "- Exercise 3. Spatial index"
      ]
    },
    {
      "cell_type": "code",
      "metadata": {
        "id": "Q9tKEXDcCOXV"
      },
      "source": [
        "# download the data needed for this notebook\n",
        "!rm -rf map_data && mkdir map_data\n",
        "\n",
        "# road network\n",
        "!wget \"https://raw.githubusercontent.com/UCB-CE170a/Fall2020/master/lecture_4/map_data/berkeley_nodes.csv\" -O map_data/berkeley_nodes.csv\n",
        "!wget \"https://raw.githubusercontent.com/UCB-CE170a/Fall2020/master/lecture_4/map_data/berkeley_links.csv\" -O map_data/berkeley_links.csv\n",
        "\n",
        "# evacuation zone shapefile\n",
        "!rm -rf map_data/evacuation_zone && mkdir map_data/evacuation_zone\n",
        "!wget \"https://raw.githubusercontent.com/UCB-CE170a/Fall2020/master/lecture_4/map_data/evacuation_zone/evacuation_zone.shp\" -O map_data/evacuation_zone/evacuation_zone.shp\n",
        "!wget \"https://raw.githubusercontent.com/UCB-CE170a/Fall2020/master/lecture_4/map_data/evacuation_zone/evacuation_zone.shx\" -O map_data/evacuation_zone/evacuation_zone.shx\n",
        "!wget \"https://raw.githubusercontent.com/UCB-CE170a/Fall2020/master/lecture_4/map_data/evacuation_zone/evacuation_zone.dbf\" -O map_data/evacuation_zone/evacuation_zone.dfb\n",
        "!wget \"https://raw.githubusercontent.com/UCB-CE170a/Fall2020/master/lecture_4/map_data/evacuation_zone/evacuation_zone.prj\" -O map_data/evacuation_zone/evacuation_zone.prj\n",
        "\n",
        "# parcel map shapefile\n",
        "!rm -rf map_data/berkeley_parcels && mkdir map_data/berkeley_parcels\n",
        "!wget \"https://raw.githubusercontent.com/UCB-CE170a/Fall2020/master/lecture_4/map_data/berkeley_parcels/parcels.shp\" -O map_data/berkeley_parcels/parcels.shp\n",
        "!wget \"https://raw.githubusercontent.com/UCB-CE170a/Fall2020/master/lecture_4/map_data/berkeley_parcels/parcels.shx\" -O map_data/berkeley_parcels/parcels.shx\n",
        "!wget \"https://raw.githubusercontent.com/UCB-CE170a/Fall2020/master/lecture_4/map_data/berkeley_parcels/parcels.dbf\" -O map_data/berkeley_parcels/parcels.dfb\n",
        "!wget \"https://raw.githubusercontent.com/UCB-CE170a/Fall2020/master/lecture_4/map_data/berkeley_parcels/parcels.prj\" -O map_data/berkeley_parcels/parcels.prj"
      ],
      "execution_count": null,
      "outputs": []
    },
    {
      "cell_type": "code",
      "metadata": {
        "id": "8rRFpePRBylD"
      },
      "source": [
        "# install library: geopandas for spatial data analysis. Shapely will be installed during the installation of geopandas.\n",
        "!sudo apt install libspatialindex-dev\n",
        "!pip install rtree pygeos geopandas"
      ],
      "execution_count": null,
      "outputs": []
    },
    {
      "cell_type": "markdown",
      "metadata": {
        "id": "APfj4s4qCCTG"
      },
      "source": [
        "### Here is the beginning of the Python exercise."
      ]
    },
    {
      "cell_type": "code",
      "metadata": {
        "id": "KwndcgwyBylU"
      },
      "source": [
        "# import some general libraries\n",
        "import numpy as np \n",
        "import matplotlib.pyplot as plt\n",
        "%matplotlib inline"
      ],
      "execution_count": null,
      "outputs": []
    },
    {
      "cell_type": "markdown",
      "metadata": {
        "id": "16vI_wpOBylj"
      },
      "source": [
        "### Exercise 1. Geometry"
      ]
    },
    {
      "cell_type": "code",
      "metadata": {
        "id": "5VF8VFqnByll"
      },
      "source": [
        "# import shapely for handling geometry data\n",
        "from shapely.wkt import loads\n",
        "from shapely.geometry import Point, LineString, Polygon"
      ],
      "execution_count": null,
      "outputs": []
    },
    {
      "cell_type": "code",
      "metadata": {
        "id": "pXOCdlrVBylv"
      },
      "source": [
        "# load and display a point\n",
        "point1 = loads('Point (30 20)')\n",
        "point1"
      ],
      "execution_count": null,
      "outputs": []
    },
    {
      "cell_type": "code",
      "metadata": {
        "id": "_UnGtUG7Byl4"
      },
      "source": [
        "# load and display a line string\n",
        "line1 = loads(\"LINESTRING (10 10, 30 20, 40 40)\")\n",
        "line1"
      ],
      "execution_count": null,
      "outputs": []
    },
    {
      "cell_type": "code",
      "metadata": {
        "id": "QYkoNvCwBymD"
      },
      "source": [
        "# load and display a polygon\n",
        "polygon1 = loads(\"POLYGON ((40 40, 10 30, 10 10, 30 20, 40 40))\")\n",
        "polygon1"
      ],
      "execution_count": null,
      "outputs": []
    },
    {
      "cell_type": "code",
      "metadata": {
        "id": "g8FLVhTjBymN"
      },
      "source": [
        "# exercise 1: what is the wkt of a circle?\n",
        "# create a circle by drawing a buffer around a point\n",
        "buffer1 = point1.buffer(10)\n",
        "display(buffer1)\n",
        "print(type(buffer1))\n",
        "print(buffer1.wkt)"
      ],
      "execution_count": null,
      "outputs": []
    },
    {
      "cell_type": "markdown",
      "metadata": {
        "id": "icmtl7T0BymT"
      },
      "source": [
        "### Exercise 2. Coordinate Reference System (CRS)"
      ]
    },
    {
      "cell_type": "code",
      "metadata": {
        "id": "84bl6FGYBymU"
      },
      "source": [
        "# import geopandas for pandas-like spatial data handling\n",
        "import pandas as pd\n",
        "import geopandas as gpd"
      ],
      "execution_count": null,
      "outputs": []
    },
    {
      "cell_type": "code",
      "metadata": {
        "id": "gxy9vjjZByma"
      },
      "source": [
        "# read links data\n",
        "links_df = pd.read_csv('map_data/berkeley_links.csv')\n",
        "links_df.head()"
      ],
      "execution_count": null,
      "outputs": []
    },
    {
      "cell_type": "code",
      "metadata": {
        "id": "8x0nq_tRBymj"
      },
      "source": [
        "# construct a geodataframe from the pandas dataframe, a coordinate reference system (crs) code and WKT text strings\n",
        "links_gdf = gpd.GeoDataFrame(links_df, crs='epsg:4326', \n",
        "                             geometry=links_df['geometry'].map(loads))"
      ],
      "execution_count": null,
      "outputs": []
    },
    {
      "cell_type": "code",
      "metadata": {
        "id": "VHX7FgO7Bymp"
      },
      "source": [
        "# extract the geometry of the link 161 in the Geometric Coordinate System (lat/long), name it \"link2_geometric\"\n",
        "link2_geographic = links_gdf.loc[links_df['link_id']==161].iloc[0].geometry\n",
        "print( list(link2_geographic.coords) )\n",
        "print( link2_geographic.length ) # this is wrong to calculate length!!\n",
        "display(links_gdf.loc[links_df['link_id']==161].iloc[0].geometry)"
      ],
      "execution_count": null,
      "outputs": []
    },
    {
      "cell_type": "code",
      "metadata": {
        "id": "qu2d6EDeBymy"
      },
      "source": [
        "# project link 161 into the pseudo-mercator projection (EPSG:3857) or UTM Zone 10N projection (EPSG:26910). The units of coordinates in both projected coordinate systems are meters.\n",
        "link2_mercator = links_gdf.to_crs(3857).loc[links_df['link_id']==161].iloc[0].geometry\n",
        "print('Length of link 161 in Mercator projection is {} m'.format(link2_mercator.length))\n",
        "link2_utm = links_gdf.to_crs(26910).loc[links_df['link_id']==161].iloc[0].geometry\n",
        "print('Length of link 161 in UTM Zone 10N projection is {} m'.format(link2_utm.length))"
      ],
      "execution_count": null,
      "outputs": []
    },
    {
      "cell_type": "code",
      "metadata": {
        "id": "Lri84ZTeBym4"
      },
      "source": [
        "# we can also calculate it by hand\n",
        "[(x1, y1), (x2, y2), (x3, y3)] = list(link2_mercator.coords)\n",
        "link2_mercator_length = np.sqrt((y2-y1)**2 + (x2-x1)**2) + np.sqrt((y3-y2)**2 + (x3-x2)**2)\n",
        "print('Length of link 161 in Mercator projection is {} m'.format(link2_mercator_length))\n",
        "\n",
        "[(x1, y1), (x2, y2), (x3, y3)] = list(link2_utm.coords)\n",
        "link2_utm_length = np.sqrt((y2-y1)**2 + (x2-x1)**2) + np.sqrt((y3-y2)**2 + (x3-x2)**2)\n",
        "print('Length of link 161 in UTM Zone 10N projection is {} m'.format(link2_utm_length))"
      ],
      "execution_count": null,
      "outputs": []
    },
    {
      "cell_type": "markdown",
      "metadata": {
        "id": "j1xfB-29BynB"
      },
      "source": [
        "### Exercise 3. Spatial index"
      ]
    },
    {
      "cell_type": "code",
      "metadata": {
        "id": "UXU8PoXEBynC"
      },
      "source": [
        "# import modules.\n",
        "# `time`: time the execution of the code.\n",
        "# `shapely.ops.polygonize`: construct polygons from lines.\n",
        "# `scipy.spatial.Voronoi`: make the Voronoi diagram.\n",
        "import time\n",
        "import shapely.ops\n",
        "from scipy.spatial import Voronoi, voronoi_plot_2d"
      ],
      "execution_count": null,
      "outputs": []
    },
    {
      "cell_type": "code",
      "metadata": {
        "id": "Pp1KzlGsBynH"
      },
      "source": [
        "# read the parcel data\n",
        "berkeley_parcels = gpd.read_file('map_data/berkeley_parcels/parcels.shp')\n",
        "\n",
        "# read the node data and convert it into a geodataframe\n",
        "berkeley_nodes = pd.read_csv('map_data/berkeley_nodes.csv')\n",
        "berkeley_nodes = gpd.GeoDataFrame(berkeley_nodes, crs='epsg:4326', geometry=[Point(xy) for xy in zip(berkeley_nodes.lon, berkeley_nodes.lat)])\n",
        "\n",
        "# read the evacuation zone\n",
        "evacuation_zone = gpd.read_file('map_data/evacuation_zone/evacuation_zone.shp')"
      ],
      "execution_count": null,
      "outputs": []
    },
    {
      "cell_type": "code",
      "metadata": {
        "id": "0yi6yGj7BynP"
      },
      "source": [
        "# plot figure. This may take some time.\n",
        "fig, ax = plt.subplots(1, 2, figsize=(15,15))\n",
        "berkeley_parcels.to_crs(26910).plot(ax = ax[0])\n",
        "berkeley_nodes.to_crs(26910).plot(ax = ax[0], color='red')\n",
        "evacuation_zone.to_crs(26910).plot(ax = ax[0], facecolor='none', edgecolor='orange')\n",
        "berkeley_parcels.to_crs(26910).plot(ax = ax[1])\n",
        "berkeley_nodes.to_crs(26910).plot(ax = ax[1], color='red')\n",
        "ax[1].set_xlim([564500, 565500])\n",
        "ax[1].set_ylim([4194000, 4195000])"
      ],
      "execution_count": null,
      "outputs": []
    },
    {
      "cell_type": "code",
      "metadata": {
        "id": "ZFhAznXqBynU"
      },
      "source": [
        "# add Voronoi diagram\n",
        "# based on: https://gis.stackexchange.com/questions/337561/making-polygon-for-every-point-in-set-using-voronois\n",
        "x = berkeley_nodes.geometry.x.values\n",
        "y = berkeley_nodes.geometry.y.values\n",
        "coords = np.vstack((x, y)).T\n",
        "vor = Voronoi(coords)\n",
        "\n",
        "lines = [shapely.geometry.LineString(vor.vertices[line]) for line in \n",
        "    vor.ridge_vertices if -1 not in line]\n",
        "polys = shapely.ops.polygonize(lines)\n",
        "voronois = gpd.GeoDataFrame(geometry=gpd.GeoSeries(polys), crs='epsg:4326').to_crs(26910)\n",
        "\n",
        "voronois = gpd.overlay(voronois, evacuation_zone.to_crs(26910))\n",
        "voronois['id'] = np.arange(voronois.shape[0])\n",
        "voronois.head()"
      ],
      "execution_count": null,
      "outputs": []
    },
    {
      "cell_type": "code",
      "metadata": {
        "id": "87HpWHPHBynZ"
      },
      "source": [
        "# plot voronois. This again may take some time.\n",
        "fig, ax = plt.subplots(1, 2, figsize=(15,15))\n",
        "\n",
        "# whole plot\n",
        "berkeley_parcels.to_crs(26910).plot(ax = ax[0])\n",
        "voronois.to_crs(26910).plot(ax = ax[0], facecolor='none', edgecolor='red')\n",
        "evacuation_zone.to_crs(26910).plot(ax = ax[0], facecolor='none', edgecolor='orange')\n",
        "\n",
        "# zoom in\n",
        "berkeley_parcels.to_crs(26910).plot(ax = ax[1])\n",
        "berkeley_nodes.to_crs(26910).plot(ax = ax[1], color='red')\n",
        "voronois.to_crs(26910).plot(ax = ax[1], facecolor='none', edgecolor='red')\n",
        "ax[1].set_xlim([564500, 565500])\n",
        "ax[1].set_ylim([4194000, 4195000])"
      ],
      "execution_count": null,
      "outputs": []
    },
    {
      "cell_type": "code",
      "metadata": {
        "id": "rp2Ao0ILBynh"
      },
      "source": [
        "# extract the parcel centroid of each parcel\n",
        "berkeley_parcels['centroid'] = berkeley_parcels.apply(lambda x: x['geometry'].centroid, axis=1)\n",
        "berkeley_parcels_centroid = berkeley_parcels.set_geometry('centroid').to_crs(26910)"
      ],
      "execution_count": null,
      "outputs": []
    },
    {
      "cell_type": "code",
      "metadata": {
        "id": "yhPksqh3Bynl"
      },
      "source": [
        "# method 1: without spatial indexing. Possibly Colab is better than the test computer. The time difference with and without spatial index is not different much.\n",
        "t0 = time.time()\n",
        "parcels_per_node_1 = dict()\n",
        "\n",
        "for voronoi_zone in voronois.itertuples():\n",
        "    voronoi_gemetry = getattr(voronoi_zone, 'geometry')\n",
        "    parcels_evacuate = berkeley_parcels_centroid[\n",
        "        berkeley_parcels_centroid.intersects(voronoi_gemetry)]\n",
        "    parcels_per_node_1[getattr(voronoi_zone, 'id')] = parcels_evacuate.shape[0]\n",
        "\n",
        "print('It takes {:.2f} seconds to compute without spatial index'.format(time.time()-t0))"
      ],
      "execution_count": null,
      "outputs": []
    },
    {
      "cell_type": "code",
      "metadata": {
        "id": "s-aBrDCkBynr"
      },
      "source": [
        "# method 2: with spatial indexing\n",
        "# based on: https://geoffboeing.com/2016/10/r-tree-spatial-index-python/\n",
        "t1 = time.time()\n",
        "parcels_sindex = berkeley_parcels_centroid.sindex\n",
        "parcels_per_node_2 = dict()\n",
        "\n",
        "for voronoi_zone in voronois.itertuples():\n",
        "    voronoi_gemetry = getattr(voronoi_zone, 'geometry')\n",
        "    coarse_parcel_ids = list(parcels_sindex.intersection(voronoi_gemetry.bounds))\n",
        "    coarse_parcels = berkeley_parcels_centroid.iloc[coarse_parcel_ids]\n",
        "    parcels_evacuate = coarse_parcels[coarse_parcels.intersects(voronoi_gemetry)]\n",
        "    parcels_per_node_2[getattr(voronoi_zone, 'id')] = parcels_evacuate.shape[0]\n",
        "\n",
        "print('It takes {:.2f} seconds to compute with spatial index'.format(time.time()-t1))\n",
        "\n",
        "equal_items = {k: parcels_per_node_1[k] for k in parcels_per_node_1 if k in parcels_per_node_2 and parcels_per_node_1[k] == parcels_per_node_2[k]}\n",
        "print('There are {} voronoi shapes in method 1, {} in method 2, {} elements are equal'.format(len(parcels_per_node_1), len(parcels_per_node_2), len(equal_items)))"
      ],
      "execution_count": null,
      "outputs": []
    },
    {
      "cell_type": "markdown",
      "metadata": {
        "id": "oiqMffQ1Byn0"
      },
      "source": [
        "### backup materials"
      ]
    },
    {
      "cell_type": "code",
      "metadata": {
        "id": "2HdaTmBLByn2"
      },
      "source": [
        "# a hypothesized fire location\n",
        "fire = gpd.GeoDataFrame(pd.DataFrame({'id': [0], 'name': ['ignition']}), crs='epsg:4326', geometry=[Point((-122.2502, 37.9021))])\n",
        "\n",
        "# distance band to the hypothesized fire location\n",
        "fire_propagation = pd.DataFrame([[distance, fire.to_crs(26910).iloc[0].geometry.buffer(distance*1609)] for distance in np.arange(0.2, 5, 0.2)], columns=['distance', 'geometry'])\n",
        "fire_propagation = gpd.GeoDataFrame(fire_propagation, crs='epsg:26910', geometry=fire_propagation['geometry'])"
      ],
      "execution_count": null,
      "outputs": []
    },
    {
      "cell_type": "code",
      "metadata": {
        "id": "CJztTBooByn6"
      },
      "source": [
        "fig, ax = plt.subplots(figsize=(10,10))\n",
        "berkeley_parcels.to_crs(26910).plot(ax = ax)\n",
        "fire_propagation.plot(ax = ax, facecolor='none', edgecolor='orange')"
      ],
      "execution_count": null,
      "outputs": []
    },
    {
      "cell_type": "code",
      "metadata": {
        "id": "U7MVUDKWByn_"
      },
      "source": [
        "# extract the parcel centroid\n",
        "berkeley_parcels['centroid'] = berkeley_parcels.apply(lambda x: x['geometry'].centroid, axis=1)\n",
        "berkeley_parcels_centroid = berkeley_parcels.set_geometry('centroid').to_crs(26910)"
      ],
      "execution_count": null,
      "outputs": []
    },
    {
      "cell_type": "code",
      "metadata": {
        "id": "wdAEFraDByoF"
      },
      "source": [
        "# count the numbers of parcels within each distance band to the fire\n",
        "# method 1: without spatial indexing\n",
        "t0 = time.time()\n",
        "\n",
        "for buffer_zone in fire_propagation.itertuples():\n",
        "    t_i = time.time()\n",
        "    parcels_evacuate = berkeley_parcels_centroid[\n",
        "        berkeley_parcels_centroid.intersects(\n",
        "            getattr(buffer_zone, 'geometry'))]\n",
        "    print('{} parcels within {:.2f} miles to the fire location, computed in {:.3f} seconds.'.format(parcels_evacuate.shape[0], getattr(buffer_zone, 'distance'), time.time()-t_i))\n",
        "\n",
        "print('It takes {:.2f} seconds to compute'.format(time.time()-t0))"
      ],
      "execution_count": null,
      "outputs": []
    },
    {
      "cell_type": "code",
      "metadata": {
        "id": "d5uTAFJMByoK"
      },
      "source": [
        "# method 2: with spatial indexing\n",
        "# based on: https://geoffboeing.com/2016/10/r-tree-spatial-index-python/\n",
        "t1 = time.time()\n",
        "parcels_sindex = berkeley_parcels_centroid.sindex\n",
        "\n",
        "for buffer_zone in fire_propagation.itertuples():\n",
        "    t_i = time.time()\n",
        "    buffer_gemetry = getattr(buffer_zone, 'geometry')\n",
        "    coarse_parcel_ids = list(parcels_sindex.intersection(buffer_gemetry.bounds))\n",
        "    coarse_parcels = berkeley_parcels_centroid.iloc[coarse_parcel_ids]\n",
        "    parcels_evacuate = coarse_parcels[coarse_parcels.intersects(buffer_gemetry)]\n",
        "    print('{} parcels within {:.2f} miles to the fire location, computed in {:.3f} seconds.'.format(parcels_evacuate.shape[0], getattr(buffer_zone, 'distance'), time.time()-t_i))\n",
        "\n",
        "print('It takes {:.2f} seconds to compute'.format(time.time()-t1))"
      ],
      "execution_count": null,
      "outputs": []
    },
    {
      "cell_type": "code",
      "metadata": {
        "id": "gTBqpXOTByoP"
      },
      "source": [
        ""
      ],
      "execution_count": null,
      "outputs": []
    }
  ]
}