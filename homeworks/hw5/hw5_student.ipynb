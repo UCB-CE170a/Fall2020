{
 "cells": [
  {
   "cell_type": "markdown",
   "metadata": {
    "id": "Ex2gcT8uSvfs"
   },
   "source": [
    "# CE170A HW5: Sensor Data Analysis\n",
    "Authors: Prof. Kenichi Soga, Renjie Wu, Shenghan Zhang, James Wang \n",
    "\n",
    "version 1.0"
   ]
  },
  {
   "cell_type": "markdown",
   "metadata": {
    "id": "_KFjiIDrS_DA"
   },
   "source": [
    "## Install Packages"
   ]
  },
  {
   "cell_type": "code",
   "execution_count": null,
   "metadata": {
    "colab": {
     "base_uri": "https://localhost:8080/"
    },
    "id": "uxPOHzucz7pk",
    "outputId": "d81520e3-359c-45c2-b73b-719660449216"
   },
   "outputs": [],
   "source": [
    "import os\n",
    "!pip install trusspy\n",
    "!wget \"https://raw.githubusercontent.com/UCB-CE170a/Fall2020/master/homeworks/hw5/hw5.zip\" -O hw5.zip\n",
    "!unzip hw5.zip"
   ]
  },
  {
   "cell_type": "markdown",
   "metadata": {
    "id": "zCPLJ7PyTD0R"
   },
   "source": [
    "## Background\n",
    "\n",
    "There are two ways to understand a phenomena scientifically. One is through mathmatically modeling and computer simulation, which is the purpose of our assignment 1 (truss finite element simulation). The other is through experiments, which is performed in this class (model bridge loading experiment). By comparing experiment results with simulation results, one may appreciate the complexity of real world phenomena and have a deeper understanding of the power and limitations of the simulation method.\n",
    "\n",
    "<center>\n",
    "<img src=\"https://github.com/UCB-CE170a/Fall2020/raw/master/homeworks/hw5/figures/overview.png\" alt=\"Node numbering\" width=\"600\" />\n",
    "    \n",
    "    Figure 1. Simulation Vs. Experiment\n",
    "</center>"
   ]
  },
  {
   "cell_type": "markdown",
   "metadata": {
    "id": "Va00y5OMUovr"
   },
   "source": [
    "In this assignment, you are going to analyze the sensor data from the model bridge experiment and compare the result with the truss simulation performed in assignment 1. The data you are going to explore are \n",
    "* Displacement data from displacement sensors (potentiometric measuring devices).\n",
    "* Tilt data from WSN tilt motes. \n",
    "* Distributed (spatial) strain data from fiber optics sensors.\n",
    "\n"
   ]
  },
  {
   "cell_type": "markdown",
   "metadata": {
    "id": "5dWB5GZ3Ti2D"
   },
   "source": [
    "The typical workflow of data analysis is summarized in figure 2. \n",
    "<center>\n",
    "<img src=\"https://github.com/UCB-CE170a/Fall2020/raw/master/homeworks/hw5/figures/data_processing.png\" alt=\"Node numbering\" width=\"600\" />\n",
    "    \n",
    "    Figure 2. Typical workflow of data analysis\n",
    "</center>"
   ]
  },
  {
   "cell_type": "markdown",
   "metadata": {
    "id": "ysKmPCnlU3SD"
   },
   "source": [
    "We start with the raw data collected from the sensor systems. Then, we preprocess the raw data and store the cleaned data into a data storage system. There are various reasons for data preprocessing. Missing data handling, experiment/equipment setting adjustment and data format conversion are common reasons for it (there are more, of course). \n",
    "\n",
    "Most data can be represented as a single spread sheet, such as the displacement data and tilt data we are going to explore in this assignment. However, data can have complex structures in some cases, such as the distributed strain data we have in this case. The distributed strain data is collected from fiber optics sensors, which record the strain along the fiber (spatial component) during the experiment (time component). We deployed 50+ fiber optics sensors (with different lengths) across diffrent structure members to monitor load responses of the model bridge. To access data easily (We suppose you don't want to read-compare-visualize 50+ spreadsheets manually), we structured the data using the geometry of the model bridge. Ideally, it is best to use DataBase system to store the structured data. However, to simplify things, we use python dictionary to store the data in this assignment but the concept of data structuring is the same. \n",
    "\n",
    "Having the cleaned data on hands, we can perform various postprocessing techniques such as statistical analysis, and most importantly, visualize the data for interpretation."
   ]
  },
  {
   "cell_type": "markdown",
   "metadata": {
    "id": "Mf579HF_VZs9"
   },
   "source": [
    "The data are given in a format that follows the numbering given in the following figures.\n",
    "\n",
    "Figure 3 shows the nodal numbering of the model bridge.\n",
    "<center>\n",
    "<img src=\"https://github.com/UCB-CE170a/Fall2020/raw/master/homeworks/hw5/figures/figure1.png\" alt=\"Node numbering\" width=\"600\" />\n",
    "    \n",
    "    Figure 3. Node numbering for the model bridge\n",
    "</center>"
   ]
  },
  {
   "cell_type": "markdown",
   "metadata": {
    "id": "_qi2HlZEVk9M"
   },
   "source": [
    "## Data Exploration\n",
    "### 1. Displacemenent data (potentiometric measuring devices) : load-displacement curves"
   ]
  },
  {
   "cell_type": "markdown",
   "metadata": {
    "id": "poW242TpVpGp"
   },
   "source": [
    "Potentiometric measuring devices are used to measure the displacement of the TOP plate. Specifically, displacements for four corners of the top plate were recorded, shown by figure 4. Note the left corner (sensor 9) of the top plate point to the direction of corner A in Figure 3. \n",
    "<center>\n",
    "<img src=\"https://github.com/UCB-CE170a/Fall2020/raw/master/homeworks/hw5/figures/displacement.png\" alt=\"Node numbering\" width=\"600\" />\n",
    "    \n",
    "    Figure 4. Potentiometric measuring devices record the displacement of the four corners of the top plate during the experiment. \n",
    "</center>"
   ]
  },
  {
   "cell_type": "markdown",
   "metadata": {
    "id": "7nWbTvX2WNKv"
   },
   "source": [
    "Lets read the processed data (base adjusted, unit converted, format changed) first:"
   ]
  },
  {
   "cell_type": "code",
   "execution_count": null,
   "metadata": {
    "colab": {
     "base_uri": "https://localhost:8080/",
     "height": 204
    },
    "id": "lshNShsNSRnb",
    "outputId": "ff4685ec-436c-4adc-ffb3-dafbc576307a"
   },
   "outputs": [],
   "source": [
    "import numpy as np\n",
    "import pandas as pd\n",
    "\n",
    "df = pd.read_csv('./data/load_displacement.csv')\n",
    "df.head()"
   ]
  },
  {
   "cell_type": "markdown",
   "metadata": {
    "id": "sFrQLXypWVVg"
   },
   "source": [
    "The plotting function is provided in this assignment. In the cell below, we give an example on how to use the function to plot load Vs. time. Note that the plot_lines function is capable on plotting multiple lines."
   ]
  },
  {
   "cell_type": "code",
   "execution_count": null,
   "metadata": {
    "colab": {
     "base_uri": "https://localhost:8080/",
     "height": 367
    },
    "id": "zU_5T7hSS-bZ",
    "outputId": "87e97933-d779-4b58-865b-51d400df1b07"
   },
   "outputs": [],
   "source": [
    "import matplotlib.pyplot as plt\n",
    "\n",
    "def plot_lines(xs,ys,xy_labels,line_lables):\n",
    "    \"\"\" A multi-line plotter\n",
    "     Args:\n",
    "      xs: list of x values, i.e. [x1,x2,x3...]\n",
    "      ys: list of y values, i.e. [y1,y2,y3...]\n",
    "      xy_labels: labels for the figure, in the form of (x_label, y_label)\n",
    "      line_lables: labels for plotted lines, must match to the order of yvalues in y\n",
    "\n",
    "    Returns:\n",
    "      ax: matplotlib axes \n",
    "    \"\"\"\n",
    "    assert len(xs)==len(ys), \"number of x must equal to number of y\"\n",
    "    assert len(ys)==len(line_lables),  \"ys and line_lables must be list with same shape, i.e. [y1],[y1_label]\"\n",
    "    \n",
    "    fig = plt.figure()\n",
    "    ax=fig.add_axes([0,0,1,1])\n",
    "    \n",
    "    for x,y in zip(xs,ys):\n",
    "        l = ax.plot(x,y)\n",
    "    ax.set_xlabel(xy_labels[0])\n",
    "    ax.set_ylabel(xy_labels[1])\n",
    "    ax.legend(labels = line_lables)\n",
    "    return ax\n",
    "\n",
    "\n",
    "# load the data to numpy array \n",
    "t = df['time(s)'].to_numpy()\n",
    "load = df['load(N)'].to_numpy()\n",
    "d9 = df['displacement9(m)'].to_numpy()\n",
    "d10 = df['displacement10(m)'].to_numpy()\n",
    "d11 = df['displacement11(m)'].to_numpy()\n",
    "d12 = df['displacement12(m)'].to_numpy()\n",
    "\n",
    "# Load Vs. time\n",
    "plot_lines([t],[load],['time(s)','load(N)'],['load'])"
   ]
  },
  {
   "cell_type": "markdown",
   "metadata": {
    "id": "XVjSMp2sWpy_"
   },
   "source": [
    "What is the load threshold to fail the model bridge? What is the corresponding time of it?"
   ]
  },
  {
   "cell_type": "markdown",
   "metadata": {
    "id": "FFtHOfF0Ws_Z"
   },
   "source": [
    "<font color='red'>Answer: </font> \n"
   ]
  },
  {
   "cell_type": "markdown",
   "metadata": {
    "id": "GbMvzi8gWv4y"
   },
   "source": [
    "Now its your turn, plot the load-displacement (load on y-axis, displacement on x-axis) curves measured at the top plate BEFORE the bridge fail (all four measurements in the same graph). Hint: your plot should be continuous as we ask for measurements BEFORE the bridge fail. "
   ]
  },
  {
   "cell_type": "code",
   "execution_count": null,
   "metadata": {
    "colab": {
     "base_uri": "https://localhost:8080/",
     "height": 368
    },
    "id": "zYFGZwz2WmIc",
    "outputId": "b39260cc-b1e4-48ec-cb83-e717ef0cbe4d"
   },
   "outputs": [],
   "source": [
    "# TODO: Replace ? to your estimated fail time \n",
    "mask = t< ? # mask to get data before fail\n",
    "\n",
    "plot_lines([d9[mask],d10[mask],d11[mask],d12[mask]],[load[mask]]*4,\n",
    "           ['displacement(m)','load(N)'],['d9','d10','d11','d12'])"
   ]
  },
  {
   "cell_type": "markdown",
   "metadata": {
    "id": "mw0wRKboW80R"
   },
   "source": [
    "Next, plot the average of the measurements. "
   ]
  },
  {
   "cell_type": "code",
   "execution_count": null,
   "metadata": {
    "colab": {
     "base_uri": "https://localhost:8080/",
     "height": 368
    },
    "id": "oK2JSBysW8Sb",
    "outputId": "aae98af7-5b82-4c3c-ecec-d0309a934ef5"
   },
   "outputs": [],
   "source": [
    "average = \n",
    "\n",
    "plot_lines()\n",
    "\n"
   ]
  },
  {
   "cell_type": "markdown",
   "metadata": {
    "id": "c2aQl9eFXD6T"
   },
   "source": [
    "Comment on the following (i) discuss a possible reason of having a kink at the early stage of loading in each load-displacement curve and (ii) comment on how the top plate moved during the load using the plot."
   ]
  },
  {
   "cell_type": "markdown",
   "metadata": {
    "id": "KwFqY3H-XHQY"
   },
   "source": [
    "<font color='red'>Answer: </font> \n"
   ]
  },
  {
   "cell_type": "markdown",
   "metadata": {
    "id": "Je8LK8IhXkqQ"
   },
   "source": [
    "### 2. Tilt data (WSN tilt motes) : load-tilt curves\n",
    "\n",
    "Lets explore the tilt data from WSN tilt motes. Figure 5 shows the location of WSN tilt motes and their numbering. The direction of positive angle is given for both longitudinal direction (L) and transverse direction (T).\n",
    "\n",
    "<center>\n",
    "<img src=\"https://github.com/UCB-CE170a/Fall2020/raw/master/homeworks/hw5/figures/figure3.png\" alt=\"Node numbering\" width=\"600\" />\n",
    "    \n",
    "    Figure 5. The locations of WSN tilt motes.Note tilt mote 3 and 4 sit on GH, IJ respectively. \n",
    "</center>"
   ]
  },
  {
   "cell_type": "code",
   "execution_count": null,
   "metadata": {
    "colab": {
     "base_uri": "https://localhost:8080/",
     "height": 204
    },
    "id": "qn0kaNGFW5kX",
    "outputId": "2c4b09d3-a378-4445-f9a5-04ff07b24e78"
   },
   "outputs": [],
   "source": [
    "# Load Logitudinal Tilt (right-left direction, \"L direction\" in Figure 5\n",
    "tilt_long = pd.read_csv('./data/tilt_L_load.csv')\n",
    "tilt_long.head()\n"
   ]
  },
  {
   "cell_type": "code",
   "execution_count": null,
   "metadata": {
    "colab": {
     "base_uri": "https://localhost:8080/",
     "height": 204
    },
    "id": "MjLJEa8WX0Tq",
    "outputId": "00c3e3cf-fca6-414a-af5f-9edd18e28b9e"
   },
   "outputs": [],
   "source": [
    "# Transverse Tilt (in-out direction, \"T direction \" in Figure 5)\n",
    "tilt_tran = pd.read_csv('./data/tilt_T_load.csv')\n",
    "tilt_tran.head()"
   ]
  },
  {
   "cell_type": "markdown",
   "metadata": {
    "id": "fjM11wZCX8Rb"
   },
   "source": [
    "Plot the longitudinal tilt-load curve (load on x-axis, tilt on y-axis) of the top using the tilt WNS mote data (Tilt 1) BEFORE the fail."
   ]
  },
  {
   "cell_type": "code",
   "execution_count": null,
   "metadata": {
    "colab": {
     "base_uri": "https://localhost:8080/",
     "height": 367
    },
    "id": "4mVG4A22X5bp",
    "outputId": "1d3005de-6a90-48ed-e6d7-23ddf268f1f5"
   },
   "outputs": [],
   "source": [
    "load = \n",
    "theta1_long = \n",
    "theta1_trans = \n",
    "\n",
    "plot_lines()"
   ]
  },
  {
   "cell_type": "markdown",
   "metadata": {
    "id": "0PDx5aM8YCwb"
   },
   "source": [
    "Comment on how the top plate move during the load using the plots, does the result match your interpretation from the displacement data?"
   ]
  },
  {
   "cell_type": "markdown",
   "metadata": {
    "id": "vPZn_14VYEql"
   },
   "source": [
    "<font color='red'>Answer: </font> \n"
   ]
  },
  {
   "cell_type": "markdown",
   "metadata": {
    "id": "efQyHO6FdGRf"
   },
   "source": [
    "### 3. Strain data (fiber optics): load-strain curves\n",
    "Finally, explore the most interesting data, distributed strain data collected from the fiber optics sensors. Figure 6 shows the location of the fiber optic sensors attached to each member of the bridge.\n",
    "\n",
    "<center>\n",
    "<img src=\"https://github.com/UCB-CE170a/Fall2020/raw/master/homeworks/hw5/figures/figure2.png\" alt=\"Node numbering\" width=\"600\" />\n",
    "    \n",
    "    Figure 6. The locations of fiber optic sensors\n",
    "</center>"
   ]
  },
  {
   "cell_type": "markdown",
   "metadata": {
    "id": "NNI-7-ovde8U"
   },
   "source": [
    "Model bridge memberes are divided into 4 planes: Bottom, Left-diagonal, Right-diagonal, and Middle plane. See figure 7. \n",
    "\n",
    "<center>\n",
    "<img src=\"https://github.com/UCB-CE170a/Fall2020/raw/master/homeworks/hw5/figures/figure1.png\" alt=\"Node numbering\" width=\"600\" />\n",
    "    \n",
    "    Figure 7. Node numbering for the model bridge\n",
    "</center>"
   ]
  },
  {
   "cell_type": "markdown",
   "metadata": {
    "id": "Xs4CulHJdzan"
   },
   "source": [
    "As you probably noticed in quiz 1 and assignment 1, theoritically, the load will be distributed alone diagonal members (DH,HF,AG,GR,FJ,FC,EI,IB) and bottom members (AM,MB,DN,NC). Hence, we deployed TWO fiber optic sensors for each angle bar of such members (up and down in figure 8). Also, diagonal members of the model bridge have two angle bars wheras other members use one bar. We label the inner angle bar as \"in\" and the outside angle bar as \"out\". Again, two fiber optics sensors are used for each diagonal angle bar. In summary, diagonal members of the model bridge have four fiber optics sensors attached (two for each angle bar) and bottom members have two fiber optics sensors attached. Other members have only one fiber optics sensor attached. See figure 8 for 3d visualizations of sensor locations.\n",
    "<center>\n",
    "<img src=\"https://github.com/UCB-CE170a/Fall2020/raw/master/homeworks/hw5/figures/fiber_loc.png\" alt=\"Node numbering\" width=\"600\" />\n",
    "    \n",
    "    Figure 8. Fiber optics sensor locations on angle bars\n",
    "</center>"
   ]
  },
  {
   "cell_type": "markdown",
   "metadata": {
    "id": "LUpkYNwxeOvX"
   },
   "source": [
    "Since we have 50+ fiber optics sensors, strain data are grouped into different categroies based on their deployed locations in the bridge. All the data is stored in the STRAIN_DATA dictionary. It is structured into four levels: the first level is plane. For each plane, we have truss members. Each member have many fiber optics sensors installed, which is grouped into the fiber level. At the end, we can reach the data level, which contains loads (N elements), locations (M elements), and strain measurements (N*M elements) of the corresponding sensor. See figure 9 for the structure of this data. \n",
    "<center>\n",
    "<img src=\"https://github.com/UCB-CE170a/Fall2020/raw/master/homeworks/hw5/figures/sensor_data.png\" alt=\"Node numbering\" width=\"600\" />\n",
    "    \n",
    "    Figure 9. Structure of the sensor data\n",
    "</center>\n",
    "\n"
   ]
  },
  {
   "cell_type": "markdown",
   "metadata": {
    "id": "ROCzJ0p9fBXN"
   },
   "source": [
    "Run cell below to define constant and construct the STRAIN_DATA from data files. "
   ]
  },
  {
   "cell_type": "code",
   "execution_count": null,
   "metadata": {
    "id": "Wej0mdYyX-Vm"
   },
   "outputs": [],
   "source": [
    "# Construct the strain data \n",
    "from scripts.utils import construct_strain_data\n",
    "\n",
    "PLANE_NAMES = ['bottom','diagonal_left','diagonal_right','middle']\n",
    "\n",
    "BOTTOM_MEMBERS = ['AD','AM','BC','DN','MB','NC']\n",
    "DL_MEMBERS = ['AG','DG','DH','GE','GH','HE','HF']\n",
    "DR_MEMBERS = ['BI','BJ','CJ','IE','IF','JF','JI']\n",
    "MID_MEMBERS = ['GM','HN','MI','NJ']\n",
    "\n",
    "PLANE2MEMBERS = {'bottom':BOTTOM_MEMBERS,\n",
    "               'diagonal_left':DL_MEMBERS,\n",
    "               'diagonal_right':DR_MEMBERS,\n",
    "               'middle':MID_MEMBERS}\n",
    "\n",
    "time = df['time(s)'].to_numpy()\n",
    "load = df['load(N)'].to_numpy()\n",
    "\n",
    "T2LOAD = {}\n",
    "for i,t in enumerate(time):\n",
    "    T2LOAD[round(t,2)] = load[i]\n",
    "\n",
    "STRAIN_DATA = construct_strain_data(T2LOAD)"
   ]
  },
  {
   "cell_type": "markdown",
   "metadata": {
    "id": "7nwf5Va6fPDB"
   },
   "source": [
    "Cell below shows one example on fetching the strain data from the fiber optics sensor attached \"up\" on \"inner\" angle bar of memeber AG (see figure 8), located on the diagonal_left (DL) plane (see figure 7 and constant defined in above cell): "
   ]
  },
  {
   "cell_type": "code",
   "execution_count": null,
   "metadata": {
    "colab": {
     "base_uri": "https://localhost:8080/",
     "height": 367
    },
    "id": "a4E90dQFfLc0",
    "outputId": "bde979f0-4df5-4884-cc52-3937f91fb1b7"
   },
   "outputs": [],
   "source": [
    "AG_in_up = STRAIN_DATA['diagonal_left']['AG']['in_up']\n",
    "strain_data = AG_in_up['strain(micro)']\n",
    "data_location = AG_in_up['loc'] #match columns in strain_data\n",
    "corresponding_loads = AG_in_up['load']#match rows in strain_data\n",
    "\n",
    "load1 = corresponding_loads[1500]\n",
    "load2 = corresponding_loads[2000]\n",
    "plot_lines([data_location]*2,[strain_data[1500,:],strain_data[2000,:]],\n",
    "           ['location(mm)','micro strain'],[f'load at {load1}N',f'load at {load2}N'])"
   ]
  },
  {
   "cell_type": "markdown",
   "metadata": {
    "id": "JP541WQmiD07"
   },
   "source": [
    "For each member, take the average of the fiber optic strain data at the mid-point of the member at different times (loads). To do that, fill the TODO parts in function \"get_plane_strains\". Then plot the load-strain curve for each member."
   ]
  },
  {
   "cell_type": "code",
   "execution_count": null,
   "metadata": {
    "id": "rMkgpRd0gZcU"
   },
   "outputs": [],
   "source": [
    "def average_member_strains(member_data):\n",
    "  \"\"\" Function that compute the average of the fiber optic strain data \n",
    "  at the mid-point of the member at different times\"\"\"\n",
    "    mid_data_list = []\n",
    "    for fib_name, fib_data in member_data.items():\n",
    "        strain = fib_data['strain(micro)']\n",
    "        num_loc = strain.shape[1]-1\n",
    "        mid_loc = int(num_loc/2+1)\n",
    "        mid_data_list.append(strain[:,mid_loc])\n",
    "        \n",
    "    mid_data_list = np.array(mid_data_list)\n",
    "    strain_ave = np.mean(mid_data_list,axis = 0)\n",
    "    return strain_ave\n",
    "\n",
    "        \n",
    "def get_plane_loads(plane_name):\n",
    "  \"\"\"Function that provide list of loads (in KN) for members in a plane\"\"\"\n",
    "    assert plane_name in PLANE_NAMES, \"plane name must be the name from PLANE_NAMES\"\n",
    "    plane_members = PLANE2MEMBERS[plane_name]\n",
    "    plane_data = STRAIN_DATA[plane_name]\n",
    "    \n",
    "    loads = []\n",
    "    for member in plane_members:\n",
    "        member_data = plane_data[member]\n",
    "        for fib_name, fib_data in member_data.items():\n",
    "            load = fib_data['load']\n",
    "        loads.append(load)\n",
    "    return np.array(loads)/1000 \n",
    "\n",
    "def get_plane_strains(plane_name):\n",
    "  \"\"\"Function that provide list of averaged strains for members in a plane\"\"\"\n",
    "    assert plane_name in PLANE_NAMES, \"plane name must be the name from PLANE_NAMES\"\n",
    "    plane_members = PLANE2MEMBERS[plane_name]\n",
    "    plane_data = STRAIN_DATA[plane_name]\n",
    "    \n",
    "    member_strains = []\n",
    "    for member in plane_members:\n",
    "        # TODO: fetch the member data and call the right function (given to you)\n",
    "        member_data = \n",
    "        ave_strain = \n",
    "        member_strains.append(ave_strain)\n",
    "    return np.array(member_strains)\n",
    "    \n",
    "    \n",
    "\n",
    "    \n",
    "    "
   ]
  },
  {
   "cell_type": "markdown",
   "metadata": {
    "id": "CLfhqo0tiMJn"
   },
   "source": [
    "Use \"subplot_lines\" function below to make plots this time (same interface as the plot_lines function). "
   ]
  },
  {
   "cell_type": "code",
   "execution_count": null,
   "metadata": {
    "id": "Yop1-XxmiJzZ"
   },
   "outputs": [],
   "source": [
    "def subplot_lines(xs,ys,xy_labels,line_lables):\n",
    "    \"\"\"Subplot function \n",
    "     Args:\n",
    "      xs: list of x values, i.e. [x1,x2,x3...]\n",
    "      ys: list of y values, i.e. [y1,y2,y3...]\n",
    "      xy_labels: labels for the figure, in the form of (x_label, y_label)\n",
    "      line_lables: labels for plotted lines, must match to the order of yvalues in y\n",
    "    Returns:\n",
    "        None\n",
    "    \"\"\"\n",
    "    assert len(ys)==len(line_lables),  \"ys and line_lables must be list with same shape, i.e. [y1],[y1_label]\"\n",
    "    \n",
    "    fig, axes = plt.subplots(1, len(ys),figsize=(18,9))\n",
    "    \n",
    "    for ax, x, y,label in zip(axes,xs,ys,line_lables): \n",
    "        l = ax.plot(x,y,label =label)\n",
    "        ax.legend()\n",
    "        \n",
    "        \n",
    "    # add a big axes, hide frame\n",
    "    ax = fig.add_subplot(111, frameon=False)\n",
    "    # hide tick and tick label of the big axes\n",
    "    ax.tick_params(labelcolor='none', top=False, bottom=False, left=False, right=False)\n",
    "    ax.grid(False)\n",
    "    ax.set_xlabel(xy_labels[0])\n",
    "    ax.set_ylabel(xy_labels[1])\n",
    "    ax.legend(labels = line_lables)\n",
    "\n"
   ]
  },
  {
   "cell_type": "markdown",
   "metadata": {
    "id": "7sJJEEJQiVIF"
   },
   "source": [
    "Bottom Members"
   ]
  },
  {
   "cell_type": "code",
   "execution_count": null,
   "metadata": {
    "colab": {
     "base_uri": "https://localhost:8080/",
     "height": 555
    },
    "id": "WrTo3ecXiVqM",
    "outputId": "ab7ea4ec-bad6-4096-e393-e28256bea3f0"
   },
   "outputs": [],
   "source": [
    "plane_name = \n",
    "loads = \n",
    "strains = \n",
    "\n",
    "subplot_lines(strains,loads,['micro strain','Load (kN)'],BOTTOM_MEMBERS)"
   ]
  },
  {
   "cell_type": "markdown",
   "metadata": {
    "id": "cXTJBJXliY_F"
   },
   "source": [
    "Left-diagnal members"
   ]
  },
  {
   "cell_type": "code",
   "execution_count": null,
   "metadata": {
    "colab": {
     "base_uri": "https://localhost:8080/",
     "height": 555
    },
    "id": "XbCsj_cAiXHq",
    "outputId": "40acca2d-6e8c-40fc-e276-914fa5e1074f"
   },
   "outputs": [],
   "source": [
    "plane_name =\n",
    "loads = \n",
    "strains = \n",
    "\n",
    "subplot_lines(strains,loads,['micro strain','Load (kN)'],DL_MEMBERS)"
   ]
  },
  {
   "cell_type": "markdown",
   "metadata": {
    "id": "zaGqaq5Ria8m"
   },
   "source": [
    "Right-diagnal members"
   ]
  },
  {
   "cell_type": "code",
   "execution_count": null,
   "metadata": {
    "colab": {
     "base_uri": "https://localhost:8080/",
     "height": 555
    },
    "id": "PJrznobliaRn",
    "outputId": "d153ebe8-8209-400b-c05a-9a884760e2f3"
   },
   "outputs": [],
   "source": [
    "plane_name = \n",
    "loads = \n",
    "strains = \n",
    "\n",
    "subplot_lines(strains,loads,['micro strain','Load (kN)'],DR_MEMBERS)"
   ]
  },
  {
   "cell_type": "markdown",
   "metadata": {
    "id": "ZJK7ZfMBiegy"
   },
   "source": [
    "Middle members "
   ]
  },
  {
   "cell_type": "code",
   "execution_count": null,
   "metadata": {
    "colab": {
     "base_uri": "https://localhost:8080/",
     "height": 555
    },
    "id": "5l6uJrHvidVB",
    "outputId": "2f23b8a4-4c93-41b4-a26f-3267e7ab0622"
   },
   "outputs": [],
   "source": [
    "plane_name = \n",
    "loads = \n",
    "strains = \n",
    "\n",
    "\n",
    "subplot_lines(strains,loads,['micro strain','Load (kN)'],MID_MEMBERS)"
   ]
  },
  {
   "cell_type": "markdown",
   "metadata": {
    "id": "Mexh8fVDiqYq"
   },
   "source": [
    "Confirm that the strains are very small for the members that you are expected to have zero load in your FE calculation. Comment on the results."
   ]
  },
  {
   "cell_type": "markdown",
   "metadata": {
    "id": "9y4FROzfisVt"
   },
   "source": [
    "<font color='red'>Answer: </font> \n"
   ]
  },
  {
   "cell_type": "markdown",
   "metadata": {
    "id": "VwP2G-fhivnr"
   },
   "source": [
    "## Data Analysis\n",
    "### 4. Material stiffness (Young's modulus) revision using load-strain curves\n",
    "\n",
    "Use the plot of Q3 to revise the stiffness of the material in your FE model. Hint: \"load\" from data is the system (total) load, go back to quiz 1 to find the equation to convert total load to the load felt by each member. Again, pay attention to number of angle bars for each member. Your answer should have same magnitude to the value you have in assignment 1."
   ]
  },
  {
   "cell_type": "markdown",
   "metadata": {
    "id": "UA6WtwZ8i51e"
   },
   "source": [
    "<font color='red'>Answer: </font> \n"
   ]
  },
  {
   "cell_type": "markdown",
   "metadata": {
    "id": "bGDuRhhji7r6"
   },
   "source": [
    "Compare the computed load-displacement (estimate from quiz 1 result) at the top node to the measured load-displacement curves. Why they are different? "
   ]
  },
  {
   "cell_type": "markdown",
   "metadata": {
    "id": "HAYw3toKi-br"
   },
   "source": [
    "<font color='red'>Answer: </font> "
   ]
  },
  {
   "cell_type": "markdown",
   "metadata": {
    "id": "6-x33zcgjX06"
   },
   "source": [
    "### 5. Simulation Vs. measurements: Rotation"
   ]
  },
  {
   "cell_type": "markdown",
   "metadata": {
    "id": "NZyIwHkljbp3"
   },
   "source": [
    "Plot the load-tilt curves (tilt for the y-axis, load for the x-axis) of the diagonal compressive members (tilt motes 5,6,7,8) from the tilt WSN motes BEFORE the fail (use the plot_lines function this time). Only plot data on the logitudinal direction this time. "
   ]
  },
  {
   "cell_type": "code",
   "execution_count": null,
   "metadata": {
    "colab": {
     "base_uri": "https://localhost:8080/",
     "height": 130
    },
    "id": "otw52ijXi2_E",
    "outputId": "12bd30e9-a3cf-4426-9b9b-58b6bed556c5"
   },
   "outputs": [],
   "source": [
    "load = \n",
    "theta5 = \n",
    "theta6 = \n",
    "theta7 = \n",
    "theta8 = \n",
    "\n",
    "plot_lines()"
   ]
  },
  {
   "cell_type": "markdown",
   "metadata": {
    "id": "zMR_jL2rj7w8"
   },
   "source": [
    "Run trusspy simulation again. Unlike assignment 1, this time we provide the funcion to create the truss model (same configuration as assignment 1). Use your estimated new youngs modulus as the input for the \"create_truss_model\" to create trusspy model as you did in assignment 1. "
   ]
  },
  {
   "cell_type": "code",
   "execution_count": null,
   "metadata": {
    "colab": {
     "base_uri": "https://localhost:8080/"
    },
    "id": "XkplaEqCj52i",
    "outputId": "ec0d2c2a-7c88-4c34-be04-721e65b335a2"
   },
   "outputs": [],
   "source": [
    "from scripts.utils import create_truss_model\n",
    "\n",
    "DESIGN_LOAD = 7000\n",
    "#TODO: Fill your estimated value\n",
    "youngs_modulus = \n",
    "truss_model = create_truss_model(youngs_modulus)"
   ]
  },
  {
   "cell_type": "markdown",
   "metadata": {
    "id": "njLsxOn6klt0"
   },
   "source": [
    "Compare the sensor results to your FE model results (after the stiffness has been updated) by plotting the simulated rotation degrees of the corresponding members (provided below, same as assignment 1). Comment on the results. "
   ]
  },
  {
   "cell_type": "code",
   "execution_count": null,
   "metadata": {
    "colab": {
     "base_uri": "https://localhost:8080/",
     "height": 300
    },
    "id": "uxYTeO1QkgBd",
    "outputId": "acde0e07-8ba3-42f9-9d97-46fab2c3a5f1"
   },
   "outputs": [],
   "source": [
    "from scripts.utils import get_rotation_degrees\n",
    "\n",
    "lpf,thetas= get_rotation_degrees(truss_model,3)\n",
    "load = lpf*DESIGN_LOAD\n",
    "\n",
    "plt.plot(load,thetas,label='Bottom Diagnal Member Rotation')\n",
    "plt.xlim(0,17000)\n",
    "plt.ylim(0,0.12)\n",
    "plt.xlabel('load(N)')\n",
    "plt.ylabel('Rotation/degree')\n",
    "plt.legend()\n",
    "\n"
   ]
  },
  {
   "cell_type": "markdown",
   "metadata": {
    "id": "enVZTxeDQXMs"
   },
   "source": [
    "<font color='red'>Answer: </font> "
   ]
  },
  {
   "cell_type": "markdown",
   "metadata": {
    "id": "_UGsZ6G2lKHx"
   },
   "source": [
    "### 6. Strain data interpretation: Bending \n",
    "\n",
    "Pick the data at 7000N and plot strain versus locations for diagonal member CJ. \n",
    "\n"
   ]
  },
  {
   "cell_type": "code",
   "execution_count": null,
   "metadata": {
    "id": "di3TVzz1JDku"
   },
   "outputs": [],
   "source": [
    "def find_load_idx(loads,desired_load):\n",
    "  \"\"\"Get the desired load list index\"\"\"\n",
    "    min_diff = 999999\n",
    "    idx = 0\n",
    "    for i, load in enumerate(loads):\n",
    "        diff = abs(load-desired_load)\n",
    "        if diff < min_diff:\n",
    "                min_diff = diff\n",
    "                idx = i\n",
    "    return idx \n",
    "        \n",
    "def get_strain(member_data,fiber_name,desired_load = 7000):\n",
    "  \"\"\"Get the strain data for a fiber\"\"\"\n",
    "    fiber_data = member_data[fiber_name]\n",
    "    loads = fiber_data['load']\n",
    "    idx = find_load_idx(loads,desired_load)\n",
    "    strain_data = fiber_data['strain(micro)']\n",
    "    strain = strain_data[idx,:]\n",
    "    return strain\n",
    "\n",
    "def get_location(member_data,fiber_name):\n",
    "  \"\"\"Get the location data for a fiber\"\"\"\n",
    "    fiber_data = member_data[fiber_name]\n",
    "    location = fiber_data['loc']\n",
    "    return location"
   ]
  },
  {
   "cell_type": "code",
   "execution_count": null,
   "metadata": {
    "colab": {
     "base_uri": "https://localhost:8080/",
     "height": 367
    },
    "id": "oPkOOW26JF-q",
    "outputId": "1e14e4ac-ebba-4829-903e-811e1f5b227a"
   },
   "outputs": [],
   "source": [
    "LD_data = STRAIN_DATA['diagonal_right']\n",
    "member_data = LD_data['CJ']\n",
    "fiber_names = member_data.keys()\n",
    "\n",
    "locations= []\n",
    "strains = []\n",
    "\n",
    "# TODO: Call the right function and make the plot\n",
    "for fiber_name in fiber_names:\n",
    "    loc = \n",
    "    locations.append(loc)\n",
    "    strain = \n",
    "    strains.append(strain)\n",
    "\n",
    "plot_lines()"
   ]
  },
  {
   "cell_type": "markdown",
   "metadata": {
    "id": "Ub9ThPr2Kqqg"
   },
   "source": [
    "Two different angle bar bending patterns from finite element (FE) analysis are shown in figures below (each pattern has two directions): "
   ]
  },
  {
   "cell_type": "markdown",
   "metadata": {
    "id": "kYYIv9o4lnv-"
   },
   "source": [
    "<center>\n",
    "\n",
    "![type_1_positive.png](data:image/png;base64,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)\n",
    "\n",
    "<img src=\"https://github.com/UCB-CE170a/Fall2020/raw/master/homeworks/hw5/figures/type1_b.png\" alt=\"Node numbering\" width=\"600\" />\n",
    "    \n",
    "    Figure 10. Type 1 angle bar bending (one direction) \n",
    "</center>\n",
    "\n",
    "<center>\n",
    "\n",
    "![type_1_negtive.png](data:image/png;base64,iVBORw0KGgoAAAANSUhEUgAAAN0AAADqCAYAAAAmu0APAAAAAXNSR0IArs4c6QAAAARnQU1BAACxjwv8YQUAAAAJcEhZcwAAFiUAABYlAUlSJPAAAB37SURBVHhe7Z15mxRFtof5BPcD3H/9AONVR30GR1RUdNRRHB1Q56pzXcB1lGbflVFBxW3UQWVEcQEXEFEQQXFpx1FcQBlFRQQFlUF6r96XuPWLyqg+lR1ZlRmVW2Se93nOY5N97K7OyrdOZkTkyVGCYZhYYekYJmZYOoaJGZaOYWKGpWOYmGHpGCZmWDqGiRmWjmFihqVjmJhh6RgmZlg6hokZlo5hYoalY5iYYekYJmZYOoaJGZaOYWKGpWOYmGHpGCZmWDqGiRmWjmFihqVjmJhh6RgmZlg6hokZlo5hYsZK6X51/r1GwTBpIDPSHZx7tPipGPvnHCu+m3282D3rN2LXzBPE5zNOFNunnyS2TTtFtC27RLQ9eplo/8eVov2JyaJ95fWi45mbRcfqaaLwwmxRWDNfFF5eJAqv3CEKG+4Sna/fJzq3/E10bV0mut5ZLrrfe1J0v/+M6Nn2vOj5eK3o3f6K6P38NdH3xRuid9fboveb90Tfng9F395PRP8Pn4v+H78UAwd3i4FDe8Vg8wEx2HpQDHUcFkNdrc5fwuSRzEjXNO9/rIq+oqRMPrFeulOnvCfj9IZG8bspb4lzGt4Q46e+Li5o2CgmTn1FnDnxVnHORQvF+Ivni/4DXxQr0GfFSvSx6Pv2A9H3dWPx4H9L9O7cLHo/21isXOtFz0drRM+HzxUr2tOiu/FJ0fX28lKl2/Kg6Nx0r+jceJcorL9dFNbdKjrWzBMdz8+SlbL9mZtk5WxbMUm0/eMK0fbIpaLt7xeLtof+KFrvHy9al54pWu4+Q7QsOVU03z5G9O/71PlrmLyRGem8guYmRe+XW2V169x4t7OFyTMsXQy0P35VSbo3/+5sYfIMSxcxqso133aiGOpud7YyeYalixiucowbli5C+r77iKscMwKWLkI6np3CVY4ZAUsXEf0/fVWucoMtPzpbGYali4zC2gVc5RgtLF0EoLKhwnGVY3SwdBGASXBUOVQ7hnHD0oWMqnKQDtd1DOOGpQsZXMNBOIxcMoyO3Eu3Z88e0djY6BmHDx92MmuDuThV5TBHxzA6ci/duHHjxKhRozxjyZIlTmZtuMoxfsi9dBMmTNDKpmLZsmVOZnW4yjF+4Wu6kFBVDmstGaYaLF0IoMq1LD1LSoe7ChimGixdCPR8+rIUru3hic4WJk6+PVAQO3bb03eGpQsByAbpIB8TLxDuvDkfyPcaX9uAb+nuXPWN2LTtoPOvZKEiuSVzB82NAnWTKk4v+fadeIFkl/z1I/k+4/js6Op3vpNufEv38Lrvygcyvk7yU4WKpF6TV9DcKFA3qaKRERMfPzd1l4VreGinNcIB39K9t/PwiAMaf2wS1Y+K5H5N7qC5YcNVLhkg2KSl2+X7i//aJBzwLR3+MPcBTQPVL66LWSqS7rXQoLlhw60Y4sd24UCggRRUNvdB7Q7siDXvRHs7CxVJ9xpo0Nww4VYM8QPBFjy+S76vtgoHAkn35KbvRxzU1SKq6kdF0v1eGjQ3TLgVQ7y4hcM1na0Ekg5/uPug9hPYSRA2rE8mKpLu99GguWFBWzFwlYseKhwGT2wWDgSSDqg5EdPAzqt35JOKpPsdNGhuWHArhvjImnAgsHSYD3Ef2EEijFMDKpLud9CguWHArRjiA8Kp4w0f9rZMftcisHSYInAf2H4jrPkUKpLu99CguWHArRjigwpn0zKvWgSWDtK4D2w/EeaKASqS7nfRoLn1wq0Y4oMKhzniLBFYOqBWAvgNjGKGJRygIul+Hw2aWy98k2o8qFHyLAoHjKSjS8JqBXZg2FCRdL+TBs2tB4xSqirHN6lGB+Z48b5lVThgJJ1uSZgucIoQBVQk3e+lQXPrgatc9FDh0rK4PgqMpKt1XYedpr6O4tOKikR/ry5orilc5aJHCYfIsnDASDrgtSRMnRbQnRj2yBMVif5uXdBcU1SV41YM0ZAn4YCxdLolYe45uKjmWKhI7tfgDpprAqoct2KIDkimzoyiuP5PI8bSuU8xIZxuhJKKF9ZqAioSfQ26oLkmcCuG6KDCYXAuLxhLB/zeRKhORZEfxtQBFUnJ5RU01wRuxRANuOTIo3CgLulQxfzMweH7qITYwfhvvVCRqGC6oLlB4ZtUowGXGnkVDtQlXZDTRYhHK2M9UJGoYLqguUHhVgzhk3fhQF3SBQWSqh2OleOmUJGoYLqguUHgKhc+buHCuNSwkVilA9jxSggMFZtARVI/yytobhC4FUO44H1XZzq4LMmrcCB26QAuopUUJvMyVCT1c7yC5vpFVTlMiHOVqx+c4fgddMsDiUgH6FKyoJPnVCT1M7yC5vqFq1x4UOG8ppXyRmLSAboSAacffqEiqf/fK2iuH7jhUHhAMDpqzcKVSFQ6YLJqhYpEBdMFzfUDt2IIBwim5mdZuEoSlw6oHhgQz8+bQ0WigumC5tYCN6mqKsetGMzBe6jeUxZuJKmQDtBPxVpQkahguqC5tVBVjlsxmEOFw7VcWEv/skRqpMObpc7/a02eU5GoYLqgudXgVgz1w8L5IzXSAbxpavK0mnhUJCqYLmhuNfgm1fqgwgW5Ps8jqZIO4NNRCeO1TIiKpHK9guZ6gVFKvkm1PuiAWJY6d0VB6qQDtSbPqUgqzytorhdc5eqDCpfVviZhkkrpQDXxqEgqxytorg6ucvWR9c5dUZBa6YBXywcqkvq+V9BcHVzlzFHvDwsXjFRLB3ST51QkKpguaK4bVDnVioGrXDBYOHNSLx1wi0dFooLpgua6wX1yEI4bDgWDnoGYLFjPO1ZIB9TkOeZ/jrzggbqlQ5VTrRi44ZB/WLj6sUY6oCbPT7p+c93Sqdt3uOGQfyAczjawX/E1Y4ZV0tFVK2Oufa0u6bjhUDBQ1ZRweWmVFxVWSQcweT72pnfkm3/i5FcrBNOFTjpuxRAMjBwr4fLa1yRMrJMOHD3xkRFyeYVOOr5J1T8YuGLhwsVK6SDQMRctL4s1dkpj+Wt3uKXjVgz+YeGiwVrp3OJ5hVs6rnL+cAuH62kmHKyWDlEh2c3kaydoLrdi8AcVDnOkLFy4ZEs6TdBcLPXiKlcd2kgIt+qwcOGTSenoNZ7KO//ieeUqx60Y9FDhuM1CdOSm0j17w4WlKrfxbuenMBQ6B8rCRUsupBs3cZH4fvZxsspxK4aRsHDxkgvplk66TFY5vn1nJBCMO3fFS+av6cZNXi2rHKTjKleJWzhuJBQPma90y2bMlsKtv+lc5/9mABWOO3fFS6alO3fKFvHD3N9I6a646jbn/2aocJiPw7wcEx+Zlk5VuU2zL5f/5i5VJeF0d+Mz8ZFZ6c5t2CK+mnOqlG7StfeUt+f9IOPOXcmTWelUldvacKbMO+HqdXJ7nj/dsYZS7QMWLjkyKR2tctdednM5V7V8wEGXt6FxbpWXHjIp3aLpd0vhPp1zTkUuoJPAeYE7d6WLTEoH2SAd5KO5ABVOiVfrQSVZgArHjYTSQeakmzXtYSkcTi9xmklzFRAPByHysywed+5KJ5mTrnHOH6V0GEjBv2kuBYMp6v/J4l3R3LkrvWRKOlXlMCGOKodtNNdNrQeV2Ap37ko3mZLOXeUQNFdH1sTDQIkSjvuapJPMSHfj1BUjqhyC5npBr31sXrWCU2YWLv1kRjos9XJXOQTNrYbtS6NYOHvIhHRXTF1drnIXTX25LByC5tbCVvHcwuVt4t82MiHd2lnXaKscgub6gT6oxIaDlwrHnbvswHrpUNlQ4XRVDkFz/UAnz9O+agXCqUZCLJw9WC/dUzNLbfVQ7ahsKmiuX6h4aZ08p5278BpZOHuwWjo0HEKFg3S4rqOyqTCRDuCgVqdtuOEzTbirMQtnF1ZLpxoOqZtUdWEqHcDpm/o5aRkRZOHsx1rpRl+4pNxwCHN0Sg531CMdSNPkOQTjzl32Y610fqocol7pAFZ5qJ+X1K0xbuG4kZC9WCmd3yqHCEM6kOSqFSocd+6yHyulU1UOrRiUCF4RlnQgiclzKpxtk/aMHuukwyOuvpjxWykdWjFQwXQRpnSAChB1xYFwti9PY0ZinXR4MD+E2zZtrBSJCqaLsKUDca1aocJxm4XsYJ10bQ9PlNJN/7/rEpMOoqlh+6gmzzFFgZ/PwmUPq6RTzwvH6SUGU5KSDkA8uiIkTLhzV7axSjr1vPBbr7qqLBIVTBdRSQfoqhWcCoaBGiVl4bKLNdKpKtey9KxylUtaOkAnz+vtRUKF40ZC2cUa6VSVw/PCqUjqgPcKmhsVYaxaofOALFy2sUK6vu8+ksLhSaqYMqAiqQPVK2hulEAU9TuDTp5DOHWaysJlHyukwxNUVZUDVCR1oHsFzY0aNeKI8DunBsmUcNy5Kx+kXjo8PZVWOUBFUge5V9DcOAgymU2F474m+SH10hXWLqiocoCKRAXTBc2NCzV5DqG8Js9xCsrC5ZNUSzfY8qOscAh8raAiUcF0QXPjhN7z5gYVkIXLL6mWrnNj6ek7qHYUKhIVTBc0N068Vq2wcExqpVNVDtLhuo5CRaKC6YLmxg3EU4JBPCocrv28Tj2ZFDM46HxhTmqlwzUchMPIpRsqEhVMFzQ3CSCaei2/n/0v+V8Wzk4wkCcH9e442dliRiqlwx+nqhzm6NxQkdQB7RU0Nym2fnqo/Hr+vPgTFs5SBgtNJekWj3W2mJFK6apVOUBFooLpguYmAQRTC6NV8AS4ZQwNiu7GJ0TXlgflcdly1xnON8xInXS1qhygItGDWRc0N24gHB3FfPaN/eXXFXfLB8aM7vefFi13ni6Px6Z5R5Wku+ds57tmpE46VeWw1tILKpI6iL2C5sYJhNN17goyec4kR/e/VomWu890ZCsej/+4UnR/9IL8uvX+8U6WGamSDlUOdxHgD8NdBV5QkahguqC5ceEWzt3WgYrHTYbSRc+2F0TrvaVn1iPaHru8fCz2H9xdku5vF8p/m5Iq6VQrBtwdXg0qEhVMFzQ3Dqhw1Tp3qVUrUbd8YPzR8/Fa0XL/eWXZWpf9SfTufN35bomBn3aVvvfwRc4WM1IlnWrFAPmqQUWigumC5kaNX+EAcun1HpMMPdvXy8qlZGsrCtX72Ubnu5UMHNhZynnkf50tZqRGOnqTqlrY7AUViQqmC5obJZAo6PUa/p+oWj4w1YFYEEzJBvEgYDX6920vSffYn50tZqRGOnWTKkaLakFFooLpguZGCRUuyMgkbfmAKslEC04ZcepYlu2B8fLU0g/9zn2d7SuudraYkQrpglQ5QEWigumC5kYFFc6krwldtcLrMaMBxxgGRcqy3XuOHDQJQt/u90vSPXmts8WMVEhHWzH4gYqkDlavoLlREFbnrjBaPjAj6fvqXTncr2TDNACmA0zAz8LP6Hj6L84WMxKXTlU5TIj7qXKAiqQOVK+guWETducu/Az1urkTWH30ffPP4mngpGHZ7jxddP/zKee7ZvR+8WZJulUNzhYzEpcuaJUDVCR1kHoFzQ2TqDp30QZFvGolOH17PhTtK68ry9a8+BS5hAtLueoF14NSuudmOFvMSFQ6d8Mhv1CR1AHqFTQ3LKLu3MWrVoLTt/dj0f70jcOyFY+prreXC9Hf62TUT8/2V+XPLrw419liRqLS6Vox+IGKpA5+r6C5YRC1cAo13wfxePLcm/7vd5QbV0nZFo0WXVuXiaHeTicjPHo+WVeS7qWFzhYzEpMON6nKnVT8RKKtGPxARVICeAXNrRdIBgnwc+Po3EVXrTCVDBz4tzzNU7I1LTxOdL3xYKAzpqB0byutvexcf5uzxYzEpFNVzt2KwQ9UJCqYLmhuPVDh4hrWp6tWePK8RP9Pu0THC7PLsjUvOEZ0vn6fGCw0OxnR0f3BqpJ0G5Y4W8xIRLpqrRj8QEWigumC5pqSZOcuiKd+d57FG/jPblFYM78smzz4X1sqBtsPORnR0/3eSvl7uzbd42wxIxHpat2kWgsqEhVMFzTXBAxkJCWcIs+T54O/7BOFdbdWylasNIOtPzsZ8dH97uOl37/5AWeLGbFLh3NuVeUwerljxw6xZMkSsWqV/wlLKpI6GL2C5gYlDcIp8jZ5PtC0XxSK105UNvwb25Oi661HStK9+bCzxYzYpXNXOQg3atQoGX6hIqkD0StobhDcwqVhBDEP4qGCoZJVyFasdKh4JuzZs0c0NjZ6xuHD/hchdL3xkHw9XW8/5mwxI1bp3FUOpFE6CKdW/2POLE1D9lmdPB9q/0Veo1XIVryGw7VcPYwbN658fOkCx59fujbfX5Lu3RXOFjNilU53LZc26bDqn95uk8Y5MjV5jsAHhM1g1BGjj03zjx6W7cU5cpQyDCZMmFAhmTuWLVvmZNam87VS82M/d8JUIzbpUOVUKwbacChN0lHhaF+TNGL7qhUcD5hXa77luLJsHc9Nl/NvaaXz1cUl6T5Y7WwxIzbp8OmAF+xuOJQW6SAYvZM7zcIp6OS5Da8XYKUIVow03fqbsmztxTMfrCxJO4WXF8nX2/PRGmeLGbFIh0811YpBNXlRpEE6HLDqALZFOAX9oEgzQ/29ci2kuqZH4BYZrJm0hcJLpQUdtdqJ1CIW6SDa6ouOELeM/5WUjAa90HV/T4UbKhIVTBc0VwcEo527bBIO4PUq8VI5ee40am1ZfEpZNtwFgLsBbEOthOnZscHZYkYs0qHKnXLEf5XlChoY2qVQkahguqC5bqhwOEWr1kgozdCWD2kSD/evNd95Wlm2thWT5H1utoJrTvwdvTs3O1vMiFw6dZPq+Uf+t1YoP4G5FgoViQqmC5pLyYpwCgymqL856Yl8XaNW3HVtO7h5VUrnukQKSuTS1bpJFaePSi6/UJHUgeYVNFdBhbN19E9H0pPnIxq1PjrcqDULtD9Vul+v7+v6PkAilU5VOVw8YzBFRxLSZfkmUSpeXC0f3I1a0RfS3ag1C6AhkZRu9/vOFjMilc5PK4a4paPCZbUPSVyrVoI0as0Cbc7x3L+3vvsbI5PObyuGOKULq3OXDURZzUc2ar2gZqPWLIAms1K67+ubnolMOnULfbUqB+KS7vjLn5X/zoNwCnrdGsZAEU4Z2wwbtWYB1aS2f399I8SRSIcbU/HiUOVqtWKoVzo/oYQbe9M74td/WqHNyWqMufY1+beffOOb4sgLHtDm1IrrLp8i3p06rizb5zNOFPOuvEabm+X4cOpY+ff/4ZJ58t+mRCJdueHQxrudLd5gwSmEO+KII5wttXHvjGpBhTv20pXanCwHRDvp+s1yH+C/uhyvmHxZg9g65YyybLtmniAWXjlJm5uH+GT6yXI/nHvRAvlvU0KXTrVi8FPlTHHvDK9QwiHyKJwKiIdKh/2AyqfLoXHVpdPElim/K8v2zczRYtHVV2tz8xSfzxgj98dZE2+R/zYldOl0t++EjXtnIJRcHPoYO6VRu53GzdMeF2/Ovrgs2965vxV/m7FQnDblXW1+3uLrOafK/TJu4iJ5zJkSqnQYpUSFwwszaTjkF7dwCLpz/BxgHMNxw7QnxObZwwMk++eNFg/NmCfOmPK2Nj+v8e3ck+T+GTvhNnnMmRKqdHFUOeAWDlHeOTdX7igOV5D9c+3UlWLTrMvKsv0493ixbMZscXZD6VSUozL2FSs/9tOYC++Qx5wpoUlHqxy9STUK3MIhdDuJQx+Tpz4jXp11RVm2g3N/LZbPnCnObdiizecoxf65pXsAR1+4RB5zpoQmXVxVDriFQ+h2EkdlXDl1lXh5VmlVBeLwvKPE4zOnifENm7T5HJXx89zSXe7HXnCXPOZMCUU6VDldK4aocAt39MRHtDuJoxR/nvq8WDtzclk2xJMzG8SFDRu1+Rz6ODTvGLnvjjp/afLSqSrnbsUQFVQ4dRDpdlLe49KGNeLFWcOPjUI8PfMmMXHqK9p8juoxbdqj4prLppSPPVOMpGtaeKxouuV4eQ3XsnisfFJKc/ENbbnrDHnDKlaZY50aHsrXvvJ60f7MzfJhDx0vzhGFdbeIwiu3i84Nd4mu1++TvQS73npU3l2MPio9254XPZ+8JB9LhJsFcadC79eN8k7jvn2fioEDO+WKgN9PXCDOuqTUKIalq4xLGtaJ1TNvqJBt9awb5XZdPof/oB/4pphJR97MtMT2GWMqdkge47QJfxXLrxteiIxYef0fxTnOZK5X0FUrfibPOUphitnp5dCgGOrrltdyQ4UmMdh6UAw27ReDh76T83P9xWqEqiSr0zfvlapVsWqhevV8XKxixWqGqiar29uPyWqH3oeFYvUrrL9dVkNURdwej4EZWS2LVRPVE1V02/Sx4rPZ48SXc4dbAWxtOEO7Y/IQp0y4TTxyzfCkNuLZGy4Q5108X5uvC4iHpXIsnv8wJZRrujihjXjw6awOMt1OyXpgvuiha/4kfpl3VHk/PH/jH8QfLi4tyA0adEBq9JVrtDkcw2GKVdLRNguqc5c62PIEzjB0jVr7Q2jUmofnJSSNNdK5hVP3h+VJurgatbJ40WKFdFQ4d+euMKQzeVxXrHg0au3f94mTED5ZfVBJGki9dFQ4XeuBMKQzuZE2FhJu1JrlBk5JkmrpIFytNz6r0qFRawtp1Nr+xOREGrWyeOGTaun8dO7KmnR4mDxt1NqWgkatNj6oJM2kVjp0Ka4lHMiKdN0fPi9a7jl7WLYUNWqFaGqaBv9l6iOV0gVplWe7dOim1epq1NqTwkatVLxUPqjEIlInnRo18yMcsFW6XjRqfXC4UWurBY1a6YNKMLjFmJEq6ahwfueHgki3YcMGKZg7TB7XZQoes9T6UOlZfVI2NGr91J5GrRhMwXuESPpBJbaSGunovFCQCdkg0tV66Hu1cD+uKyhYe1rRqPX+8fJuChvhyfP6SIV0EE6dtuDrIASRrtZD36uF+3Fdfun7cqtoe+zy8utsufcc+XQb28GpvxLPz2UAM0zi0uGTUgmHAZSgBJHOC5w+KrnCoverd0Tb8uE+JK1Lfyef25Yl6NkJr1rxT6LS4RNSCWd6fZA26TCBjduQ1OtqufN0eRtTVuHJ8+AkJh3eoHqFA2mRrn/Ph6Jj5XBrhObFp8glXFjKlXXoMj3bn2gbB4lIF5ZwIGnp+vZ+LNqfLj2hU8p2+xi5OHmov9fJyAe8asU/oUgX5HzeLVy9b1BS0vX/sKP8ODAp26LR8rYb0dflZOQLXrXin7qlw87GjvYzdEyFw7VAGJ+IcUuHZ5N1rJ5e/r1NC48TnW88KG8szTt4P1Hp8P7yqhVv6paOjmBVG+6HcOoNCUs4EIZ0fh7X1f/TLtHxwuxh2RYcLbo23y8GC81OBgPoqhW8z8xI6pZOXURXEw9vBP0EDEs4EIZ01Rj4z7eisHb+sGzF6HxtqRhs/8XJYNzQyfOg8655oC7pII/6VKNB59uQQ8/1wxQORCXdwKG9ovDSLRWyFV5dIgZbf3YymGrwqhVv6pKOrkpwB8SLWjgQtnRoJVhYf1uFbJ2v3C4Gmw84GYxfIJs6HnjyfJi6pHOfWrpDnVJGJRwISzpUsM4NSypkK6y7VQz8ss/JYEzACLU6HnBdz9QpnZKqVkQ5YVqvdIPth+Sz0alsHWvmi4GDu50Mpl541UolxtLRc/ZaEeXwsal0Q4Vm2VW6af7R5Z9ReGGOGPg5uifI5hk1eQ7xojrrsQVj6dTd3X4jKvGCSjfY1RZZo1amOvT6Ps8YS+f31JJGFOL5lU41am1eNNyotWNVQ+iNWhlv6MBalGc/acdIOpyXu4XyG2F/ytWUbqBXdLsatbZH3KiV8QbiqWmmvIpnJB1dhWISEC+s83ov6YYGB0XXuytE8x0nD8sWY6NWxhv6oV3vgncbMZJOXRSbBj7pTG5Y1aGTTtuodff7zneZNJDnyfPA0qFCUYH8BkSDrKiSYY5eUel6UtiolfEmr+IFli7oqSVEQ1WLaq5OCZbWRq1MdejxlJdVK4Glq7UKBYGRTYgWx0Ro632VjVp7/73Z+Q5jC3mbPA8kHR15cge2Y+clsdPw+OS0N2plqpMn8QJJ517grK7TsD3M6zQmn6gBOpwpZfl4CiQdTi2VaGEPiDAMjqc8rFoJJB1GmPJwzs0kB8RTq53w4Z5FAg+kMEzU0JYPOLvKGiwdk0pwRgXpEFlbtcLSMaklq5PnLB2TauiIOb7OAiwdk3qytmqFpWOsIEuT5ywdYw1qCSLEi7LvTtSwdIxVZGHVCkvHWAVdtWLr5DlLx1gHxFOT5zaKx9IxVkInzzHIYhMsHWMtdPIc0wp2IMT/A7H9YD+d3APzAAAAAElFTkSuQmCC)\n",
    "\n",
    "<img src=\"https://github.com/UCB-CE170a/Fall2020/raw/master/homeworks/hw5/figures/type1_a.png\" alt=\"Node numbering\" width=\"600\" />\n",
    "    \n",
    "    Figure 11. Type 1 angle bar bending (the other direction)\n",
    "</center>"
   ]
  },
  {
   "cell_type": "markdown",
   "metadata": {
    "id": "7teKCfXtlsub"
   },
   "source": [
    "<center>\n",
    "\n",
    "![type_2_positve.png](data:image/png;base64,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)\n",
    "\n",
    "<img src=\"https://github.com/UCB-CE170a/Fall2020/raw/master/homeworks/hw5/figures/type2_a.png\" alt=\"Node numbering\" width=\"600\" />\n",
    "    \n",
    "    Figure 12. Type 2 angle bar bending \n",
    "</center>\n",
    "\n",
    "<center>\n",
    "\n",
    "![type_2_negtive.png](data:image/png;base64,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)\n",
    "\n",
    "<img src=\"https://github.com/UCB-CE170a/Fall2020/raw/master/homeworks/hw5/figures/type2_b.png\" alt=\"Node numbering\" width=\"600\" />\n",
    "    \n",
    "    Figure 13. Type 2 angle bar bending (the other direction)\n",
    "</center>"
   ]
  },
  {
   "cell_type": "markdown",
   "metadata": {
    "id": "HLms2AaweO5M"
   },
   "source": [
    "By examining the variation in strains across a given cross-section, one can find out that our sensor deployment strategy is capable on detecting bending type 2 but not type 1:\n",
    "\n",
    "The position of the centroid of the angle (Figure 14) can be calculated as:\n",
    "$\\overline{x}=\\frac{Lt(L/2+t)+(Lt^2)/2+t^3/2}{2Lt+t^2}$\n",
    "For the angle used in experiment, we have $L=12.7$ mm, $t=0.79$ mm. \n",
    "We then have $\\overline{x}=\\overline{y}=3.67$ mm. \n",
    "\n",
    "Crossing the centroid, we have two principle axes, $u$ and $v$ (Figure 15). Bending with respect to the two principle axes are independent. \n",
    "\n",
    "Figure 16 shows the strain distribution caused by bending with regard to axis $u$. We have the “crossing point” between u axis and the angle (zero strain point): \n",
    "\n",
    "$\\sqrt{2}\\overline{x}=5.19$ mm\n",
    "\n",
    "which is quite close to the fiber location:  $L/2±2=[4.35,8.35]$ mm. This suggests that the current fiber location (middle of the angle) is not be able to used to calculate/reflect the bending with regard to $u$ axis (i.e., the current fiber location cannot detect type 1 bending in Figure 10 and Figure 11). \n",
    "\n",
    "Figure 16 shows the strain distribution caused by bending with regard to axis $v$.Based on the fiber positions (illustrated by the red and green circles in Figure 16), we can calculate the rotation of each cross section. By further integration, we can calculate the bending shape.  \n",
    "\n",
    "Qualitatively, if we observed more tension in the red fiber compared to the green fiber, the angle would move transversely (bend) in the direction of $u$ (type 2 bending, Figure 12 or Figure 13). \n",
    "\n",
    "<center>\n",
    "\n",
    "![Figure_centroid.png](data:image/png;base64,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)\n",
    "\n",
    "Figure 14: Location of the centroid.\n",
    "</center>\n",
    "\n",
    "<center>\n",
    "\n",
    "![Figure_bending1.png](data:image/png;base64,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)\n",
    "\n",
    "Figure 15: Strain caused by bending with respect to principal axis u (causing bending 1).\n",
    "</center>\n",
    "\n",
    "<center>\n",
    "\n",
    "![Figure_bending1.png](data:image/png;base64,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)\n",
    "\n",
    "Figure 16: Strain caused by bending with respect to principal axis v (causing bending 2).\n",
    "</center>\n",
    "\n"
   ]
  },
  {
   "cell_type": "markdown",
   "metadata": {
    "id": "_4Lpb4VMK5Zu"
   },
   "source": [
    "Assuming the red circle in Figure 16 represents the \"up\" fiber, and the green circle represents the \"down\" fiber. Comment which direction (posititive, figure 12, or negative, figure 13) the two angle bars (in & out) of member CJ bend to. Please select strain near the middle region to avoid the strain transferring regions at the two ends (-50 to 50 mm). \n",
    "\n",
    "Hint: compression (-) and tension (+) are relative to each other (i.e. if strain measurement from fiber 1 is bigger than fiber 2, then fiber 1 is in tension and fiber 2 is in compression) . "
   ]
  },
  {
   "cell_type": "markdown",
   "metadata": {
    "id": "juRLivXUoKAc"
   },
   "source": [
    "<font color='red'>Answer: </font> :  \n",
    "\n",
    "\n"
   ]
  },
  {
   "cell_type": "markdown",
   "metadata": {
    "id": "Sewczv9tNc1w"
   },
   "source": [
    "BONUS POINT question: choose another member and perform bending analysis on it."
   ]
  },
  {
   "cell_type": "code",
   "execution_count": null,
   "metadata": {
    "id": "WkL_r3GvsLsq"
   },
   "outputs": [],
   "source": []
  },
  {
   "cell_type": "markdown",
   "metadata": {
    "id": "eX78MKQYP6f8"
   },
   "source": [
    "<font color='red'>Answer: </font> \n"
   ]
  },
  {
   "cell_type": "markdown",
   "metadata": {
    "id": "TO0K_MIknY-U"
   },
   "source": [
    "### 7. Summary\n",
    "\n",
    "If you are asked to improve your FE (truss simulation) model, what would you do? "
   ]
  },
  {
   "cell_type": "markdown",
   "metadata": {
    "id": "dEEeYlc7ndLR"
   },
   "source": [
    "<font color='red'>Answer: </font> \n"
   ]
  },
  {
   "cell_type": "code",
   "execution_count": null,
   "metadata": {
    "id": "e7-PDuhgnPGW"
   },
   "outputs": [],
   "source": []
  }
 ],
 "metadata": {
  "colab": {
   "collapsed_sections": [],
   "name": "hw5-student.ipynb",
   "provenance": []
  },
  "kernelspec": {
   "display_name": "Python 3",
   "language": "python",
   "name": "python3"
  },
  "language_info": {
   "codemirror_mode": {
    "name": "ipython",
    "version": 3
   },
   "file_extension": ".py",
   "mimetype": "text/x-python",
   "name": "python",
   "nbconvert_exporter": "python",
   "pygments_lexer": "ipython3",
   "version": "3.6.8"
  }
 },
 "nbformat": 4,
 "nbformat_minor": 1
}
