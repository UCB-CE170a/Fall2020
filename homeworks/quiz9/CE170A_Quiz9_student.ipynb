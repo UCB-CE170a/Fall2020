{
 "cells": [
  {
   "cell_type": "markdown",
   "metadata": {
    "id": "LyZ6u-uyc29O"
   },
   "source": [
    "## Quiz 9\n",
    "### CE170A, Fall 2020\n",
    "######  In this quiz, you will apply a digital filter to distributed acoustic sensor (DAS) data. The data was collected from a sensing cable embedded into a roadway while a pickup truck drove along the road. Your tasks are to (1) plot the unprocessed data, (2) apply an FIR filter to each spatial sensor channel, (3) visualize the processed data and (4) report the average speed of the truck."
   ]
  },
  {
   "cell_type": "markdown",
   "metadata": {
    "id": "StzflTSWc29R"
   },
   "source": [
    "First, we import the necessary libraries."
   ]
  },
  {
   "cell_type": "code",
   "execution_count": 1,
   "metadata": {
    "id": "mWfdw15cc29S"
   },
   "outputs": [],
   "source": [
    "import numpy as np\n",
    "import matplotlib.pyplot as plt\n",
    "import scipy.signal as signal"
   ]
  },
  {
   "cell_type": "code",
   "execution_count": 2,
   "metadata": {
    "colab": {
     "base_uri": "https://localhost:8080/"
    },
    "id": "UTcKED39dYo2",
    "outputId": "56c3196b-08d3-452a-9c68-ad92d3520f0c"
   },
   "outputs": [
    {
     "name": "stdout",
     "output_type": "stream",
     "text": [
      "--2020-11-04 22:53:19--  https://raw.githubusercontent.com/UCB-CE170a/Fall2020/master/homeworks/quiz9/Truck_DAS.npy\n",
      "Resolving raw.githubusercontent.com (raw.githubusercontent.com)... 151.101.0.133, 151.101.64.133, 151.101.128.133, ...\n",
      "Connecting to raw.githubusercontent.com (raw.githubusercontent.com)|151.101.0.133|:443... connected.\n",
      "HTTP request sent, awaiting response... 200 OK\n",
      "Length: 2298528 (2.2M) [application/octet-stream]\n",
      "Saving to: ‘Truck_DAS.npy’\n",
      "\n",
      "Truck_DAS.npy       100%[===================>]   2.19M  10.1MB/s    in 0.2s    \n",
      "\n",
      "2020-11-04 22:53:20 (10.1 MB/s) - ‘Truck_DAS.npy’ saved [2298528/2298528]\n",
      "\n"
     ]
    }
   ],
   "source": [
    "# get the data\n",
    "!wget \"https://raw.githubusercontent.com/UCB-CE170a/Fall2020/master/homeworks/quiz9/Truck_DAS.npy\""
   ]
  },
  {
   "cell_type": "markdown",
   "metadata": {
    "id": "Xj33GQIbc29W"
   },
   "source": [
    "We now load the DAS data. It has the following properties:\n",
    "- The array is 2D\n",
    "- One dimension corresponds to channel index, while the other to sample time index\n",
    "- There are 50 channels\n",
    "- Each channel is sampled at 40 Hertz\n",
    "- Channels are spaced apart by 1 meter.\n",
    "- The data has been contaminated by unwanted sinusoidal signals."
   ]
  },
  {
   "cell_type": "code",
   "execution_count": 3,
   "metadata": {
    "id": "RpDZ-rONc29X"
   },
   "outputs": [],
   "source": [
    "with open('Truck_DAS.npy', 'rb') as f:\n",
    "    corrupt_DAS = np.load(f)"
   ]
  },
  {
   "cell_type": "markdown",
   "metadata": {
    "id": "hH06dlfhc29b"
   },
   "source": [
    "### Task 1: Visualize the contaminated data\n",
    "#### Plot channels 0, 10, 20, 30 and 40\n",
    "- Create a 1D array of time values in seconds using the function np.r_\n",
    "- Using a For loop indexed using the range() function, plot each time-history\n",
    "- Use appropriate titles and axis labels"
   ]
  },
  {
   "cell_type": "code",
   "execution_count": null,
   "metadata": {
    "id": "2jvjY7Cgc29c"
   },
   "outputs": [],
   "source": [
    "fs = 40\n",
    "t = np.r_#[your code here]\n",
    "\n",
    "for i in range#(your code here):\n",
    "    fig = plt.figure(figsize=(16,4))\n",
    "    #your code here"
   ]
  },
  {
   "cell_type": "markdown",
   "metadata": {
    "id": "AZ1UQyX8c29e"
   },
   "source": [
    "### Task 2: Create a function to filter each channel\n",
    "- Define h_LP as the series samples of your filter\n",
    "- Properly select the filter frequency bounds\n",
    "- Properly index the For loop\n",
    "- Define filtered as the result of implementing your filter"
   ]
  },
  {
   "cell_type": "code",
   "execution_count": null,
   "metadata": {
    "id": "oNfNM6qLc29f"
   },
   "outputs": [],
   "source": [
    "def filtDASdata(corrupt_DAS, fs, taps):\n",
    "    \n",
    "    ProcData = np.empty([corrupt_DAS.shape[0], (corrupt_DAS.shape[1]-taps) + 1]) \n",
    "\n",
    "    h_LP = #your code here\n",
    "\n",
    "    for channel in #your code here:       \n",
    "        filtered = #your code here\n",
    "        ProcData[channel, :] = filtered  \n",
    "\n",
    "    return ProcData\n"
   ]
  },
  {
   "cell_type": "markdown",
   "metadata": {
    "id": "rfTKsj3Xc29i"
   },
   "source": [
    "### Task 3: Using your function, filter the DAS data\n",
    "- write one line the uses the function above and the imported DAS data\n",
    "- properly select the filter length (number of taps)\n",
    "- Answer the question below"
   ]
  },
  {
   "cell_type": "code",
   "execution_count": null,
   "metadata": {
    "id": "uGRshdPtc29i"
   },
   "outputs": [],
   "source": [
    "#your code here"
   ]
  },
  {
   "cell_type": "markdown",
   "metadata": {
    "id": "tCQS1qOjc29m"
   },
   "source": [
    "#### Q: How did you select your filter length?\n",
    "#### A: ?"
   ]
  },
  {
   "cell_type": "markdown",
   "metadata": {
    "id": "K9JXdxDRc29m"
   },
   "source": [
    "### Task 4: Visualize the filtered data\n",
    "#### Plot channels 0, 10, 20, 30, and 40\n",
    "- Create a 1D array of time values in seconds using the function np.r_\n",
    "- Using a For loop indexed using the range() function, plot each time-history\n",
    "- Use appropriate titles and axis labels"
   ]
  },
  {
   "cell_type": "code",
   "execution_count": null,
   "metadata": {
    "id": "AZAjcjm7c29m"
   },
   "outputs": [],
   "source": [
    "t = np.r_#[your code here]\n",
    "\n",
    "for i in range#(your code here):\n",
    "    fig = plt.figure(figsize=(16,4))\n",
    "    #your code here"
   ]
  },
  {
   "cell_type": "markdown",
   "metadata": {
    "id": "XifZDP7vc29r"
   },
   "source": [
    "### Task 5: Determine the average speed and behavior of the truck\n",
    "- Use the following two functions to visualize all of the channels"
   ]
  },
  {
   "cell_type": "code",
   "execution_count": null,
   "metadata": {
    "id": "stcaI746c29r"
   },
   "outputs": [],
   "source": [
    "def wiggletrace(PlotData, fs):\n",
    "    fig,ax = plt.subplots(figsize=(20, 10))\n",
    "    t = np.r_[:PlotData.shape[1]/fs:1/fs]\n",
    "    offsets = np.r_[1:PlotData.shape[0]+1]\n",
    "\n",
    "    for i in range(PlotData.shape[0]):\n",
    "        x = offsets[i]+0.7*(PlotData[i,:]/max(PlotData[i,:]))\n",
    "        ax.plot(t[:],x,'k-')\n",
    "    #x.set_xlim(0,25)\n",
    "    #plt.ylim(0,50)\n",
    "    plt.xlabel('Time, s', fontsize = 18)\n",
    "    plt.ylabel('Distance along road (m)', fontsize = 18)\n",
    "    plt.xticks(fontsize = 14)\n",
    "    plt.yticks(fontsize = 14)"
   ]
  },
  {
   "cell_type": "code",
   "execution_count": null,
   "metadata": {
    "id": "ySeZyVqLc29t"
   },
   "outputs": [],
   "source": [
    "def footprint(PlotData, fs, minval, maxval):\n",
    "    fig, ax1 = plt.subplots(figsize=(20,10))\n",
    "    trange = [0, PlotData.shape[1]//fs]\n",
    "    crange = [0, PlotData.shape[0]]\n",
    "    im1 = ax1.imshow(PlotData[:,:],aspect='auto',origin='lower',vmin=minval, vmax=maxval, extent = trange + crange, cmap=plt.cm.gnuplot2_r)\n",
    "    fig.colorbar(im1)\n",
    "    ax1.set_title('Longitudinal Pavement Strain ($\\mu\\epsilon$)',fontsize = 12)\n",
    "    ax1.set_ylabel('Distance(m)',fontsize = 18)\n",
    "    ax1.set_xlabel('Time(s)',fontsize = 18)\n",
    "    ax1.tick_params(axis = \"x\", labelsize=12)\n",
    "    ax1.tick_params(axis = \"y\", labelsize=12)"
   ]
  },
  {
   "cell_type": "markdown",
   "metadata": {
    "id": "LCA4yangc29w"
   },
   "source": [
    "### Q: How fast is the truck moving on average?\n",
    "### A: ?\n",
    "\n",
    "### Q: Does it accelerate or decelerate?\n",
    "### A: ?"
   ]
  }
 ],
 "metadata": {
  "colab": {
   "collapsed_sections": [],
   "name": "Truck_slow_analysis_CE170A_Quiz_beta.ipynb",
   "provenance": []
  },
  "kernelspec": {
   "display_name": "Python 3",
   "language": "python",
   "name": "python3"
  },
  "language_info": {
   "codemirror_mode": {
    "name": "ipython",
    "version": 3
   },
   "file_extension": ".py",
   "mimetype": "text/x-python",
   "name": "python",
   "nbconvert_exporter": "python",
   "pygments_lexer": "ipython3",
   "version": "3.6.8"
  }
 },
 "nbformat": 4,
 "nbformat_minor": 1
}
