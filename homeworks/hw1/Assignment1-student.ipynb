{
 "cells": [
  {
   "cell_type": "markdown",
   "metadata": {
    "colab_type": "text",
    "id": "9e2kYAVXZ5ba"
   },
   "source": [
    "# UCB CE170A Assignment 1 : Structural Analysis of a Model Bridge using a Python code\n",
    "v2 - Fall 2020: Prof.Kenichi Soga, Yaobin Yang, Renjie Wu  "
   ]
  },
  {
   "cell_type": "markdown",
   "metadata": {
    "colab_type": "text",
    "id": "ccCXSJ-CKsuZ"
   },
   "source": [
    "# <font color=”#8B0000”> Save the file to your google drive first! (Click Copy to Drive) </font> "
   ]
  },
  {
   "cell_type": "markdown",
   "metadata": {
    "colab_type": "text",
    "id": "DU1qmFgFO0Bu"
   },
   "source": [
    "# Install required packages"
   ]
  },
  {
   "cell_type": "code",
   "execution_count": null,
   "metadata": {
    "colab": {},
    "colab_type": "code",
    "id": "SEQkQcLKc89S"
   },
   "outputs": [],
   "source": [
    "!pip install trusspy"
   ]
  },
  {
   "cell_type": "markdown",
   "metadata": {
    "colab_type": "text",
    "id": "1G2wjr-pZ5bb"
   },
   "source": [
    "# Background\n",
    "\n",
    "<center>\n",
    "<img src=\"https://github.com/UCB-CE170a/Fall2020/raw/master/homeworks/hw1/images/figure0.png\" alt=\"A bridge.\" width=\"400\" />\n",
    "    \n",
    "    An example bridge\n",
    "</center>\n",
    "\n",
    "\n",
    "In the sensor module scheduled later on in the semester, we will be instrumenting a model bridge and testing it to failure. A photo and schematic diagram of the model bridge is shown in Fig. 1. The model consists of two identical 2D frames placed in parallel and connected by diagonal and horizonal braces (Pink lines). A vertical load will be applied at the top two nodes using a load spreader frame (light Blue). In the experiment, the model bridge will be placed between two rigid supports as shown in Fig. 2. \n",
    "\n",
    "\n"
   ]
  },
  {
   "cell_type": "markdown",
   "metadata": {
    "colab_type": "text",
    "id": "Ptx4GtHvaZVK"
   },
   "source": [
    "<center>\n",
    "<img src=\"https://github.com/UCB-CE170a/Fall2020/raw/master/homeworks/hw1/images/figure1.png\" alt=\"schematic diagram.\" width=\"600\" />\n",
    "    \n",
    "    Figure 1. A photo and schematic diagram of the model bridge\n",
    "</center>"
   ]
  },
  {
   "cell_type": "markdown",
   "metadata": {
    "colab_type": "text",
    "id": "REbr74tOalOW"
   },
   "source": [
    "<center>\n",
    "<img src=\"https://github.com/UCB-CE170a/Fall2020/raw/master/homeworks/hw1/images/figure2.png\" alt=\"A bridge.\" width=\"500\" />\n",
    "    \n",
    "    Figure 2. Loading on the model bridge\n",
    "</center>"
   ]
  },
  {
   "cell_type": "markdown",
   "metadata": {
    "colab_type": "text",
    "id": "Z9klImxoKsue"
   },
   "source": [
    "Run cell below to see the video:"
   ]
  },
  {
   "cell_type": "code",
   "execution_count": 2,
   "metadata": {
    "colab": {},
    "colab_type": "code",
    "id": "Wi7nenulKsue",
    "outputId": "0a842f95-dee3-4b8e-b105-80026ed3d99d"
   },
   "outputs": [
    {
     "data": {
      "text/html": [
       "<iframe width=\"560\" height=\"315\" src=\"https://www.youtube.com/embed/rdycElfVe4Y\" frameborder=\"0\" allow=\"accelerometer; autoplay; encrypted-media; gyroscope; picture-in-picture\" allowfullscreen></iframe>"
      ],
      "text/plain": [
       "<IPython.core.display.HTML object>"
      ]
     },
     "execution_count": 2,
     "metadata": {},
     "output_type": "execute_result"
    }
   ],
   "source": [
    "from IPython.display import HTML\n",
    "# Youtube\n",
    "HTML('<iframe width=\"560\" height=\"315\" src=\"https://www.youtube.com/embed/rdycElfVe4Y\" frameborder=\"0\" allow=\"accelerometer; autoplay; encrypted-media; gyroscope; picture-in-picture\" allowfullscreen></iframe>')"
   ]
  },
  {
   "cell_type": "markdown",
   "metadata": {
    "colab_type": "text",
    "id": "IJSEWIzvadsh"
   },
   "source": [
    "The bridge is made of stainless steel angle bars and sheets as shown in Fig. 3. The angle bar has a cross-sectional dimension of ½ inch x ½ inch x 3/80 inch (thickness)(cross-sectional area = 2.33 x 10$^{-5}$ m$^{2}$). Two angle bars are used for the top four frame members (Yellow lines in Fig. 1 or L2 & L3 in Fig. 2), whereas one angle bar is used for the other members (Red, Blue and Pink lines in Fig. 1 or L4 & L5 in Fig. 2). The Young’s modulus and yield strength of the angle bar are 190 GPa and 350 MPa, respectively. The members are connected by rivets. \n",
    "\n",
    "The design details of the model bridge are given in Fig. 4."
   ]
  },
  {
   "cell_type": "markdown",
   "metadata": {
    "colab_type": "text",
    "id": "sznwYQZBarSf"
   },
   "source": [
    "\n",
    "<center>\n",
    "<img src=\"https://github.com/UCB-CE170a/Fall2020/raw/master/homeworks/hw1/images/figure3.png\" alt=\"A bridge.\" width=\"400\" />\n",
    "    \n",
    "    Figure 3.  Steel angle bars and sheets used by the bridge\n",
    "</center>"
   ]
  },
  {
   "cell_type": "markdown",
   "metadata": {
    "colab_type": "text",
    "id": "0qcGXjLErz7e"
   },
   "source": [
    "\n",
    "<center>\n",
    "<img src=\"https://github.com/UCB-CE170a/Fall2020/raw/master/homeworks/hw1/images/figure4.png\" alt=\"A bridge.\" width=\"600\" />\n",
    "    \n",
    "    Figure 4. Design details of the model\n",
    "</center>\n",
    "\n",
    "\n",
    "\n"
   ]
  },
  {
   "cell_type": "markdown",
   "metadata": {
    "colab_type": "text",
    "id": "Jo78qJ0VZ5bc"
   },
   "source": [
    "# Quiz 1:\n",
    "A vertical working load of W=3500 N is applied at the top section of the model structure. Considering the symmetry and using a simplified 2D model shown in Fig. 5, perform a hand calculation of the bar forces and strains under the given load for load carrying sections, L1, L2 and L3. What is the role of bracing sections L4 and L5? Estimate the displacement at the top node. (use dimensions in Figure 5 for calculations)"
   ]
  },
  {
   "cell_type": "markdown",
   "metadata": {
    "colab_type": "text",
    "id": "WvMAtX39Ksuh"
   },
   "source": [
    "<center>\n",
    "<img src=\"https://github.com/UCB-CE170a/Fall2020/raw/master/homeworks/hw1/images/figure5.png\" alt=\"A bridge.\" width=\"600\" />\n",
    "    \n",
    "    Figure 5. A simplified 2D model of the model bridge (dimension in meters)\n",
    "</center>"
   ]
  },
  {
   "cell_type": "markdown",
   "metadata": {
    "colab_type": "text",
    "id": "GxDUrVAaZ5bd"
   },
   "source": [
    "# Question 1:\n",
    "Following code blocks below to use [Trusspy](https://adtzlr.github.io/trusspy/) to model the 3D model bridge. Run all the cells and **fill the TODO** parts if necessary. \n"
   ]
  },
  {
   "cell_type": "code",
   "execution_count": null,
   "metadata": {
    "colab": {},
    "colab_type": "code",
    "id": "rTm7oCtQdQin"
   },
   "outputs": [],
   "source": [
    "\"\"\"\n",
    "Step 0: Import libraries  \n",
    "\"\"\"\n",
    "import trusspy as tp\n",
    "import copy\n",
    "import matplotlib.pyplot as plt\n",
    "import numpy as np"
   ]
  },
  {
   "cell_type": "markdown",
   "metadata": {
    "colab_type": "text",
    "id": "G07ZzjtnXm49"
   },
   "source": [
    "First, lets declare constant variables and initialize the Trusspy model. Fill the empty constants using the information provided by the question description. "
   ]
  },
  {
   "cell_type": "code",
   "execution_count": null,
   "metadata": {
    "colab": {},
    "colab_type": "code",
    "id": "tWJcy08nbNDb"
   },
   "outputs": [],
   "source": [
    "\"\"\"\n",
    "Step 1: Assign Constant and initialze the model \n",
    "\"\"\"\n",
    "\n",
    "# LOAD = 3.5e3   # Total Load [N] \n",
    "ELEMENT_TYPE   = 1    # truss\n",
    "MATERIAL_TYPE  = 2    # elasto-plastic\n",
    "HARDENING_MODULUS = 0.01 # hardening_modulus[Pa] a very small number for elastic-perfectly plastic\n",
    "A = 2.33e-5 # the area of the angle section [m^2]\n",
    "INCREMENT = 30\n",
    "\n",
    "#TODO: Assign proper value for the load below\n",
    "YONGS_MODULUS =  # Young's modulus [Pa]\n",
    "YIELD_STRENGH =  # yield strength[Pa]\n",
    "\n",
    "# model settings\n",
    "M_perfect = tp.Model(log = 0)# Trusspy model initialization \n",
    "M_perfect.Settings.dlpf = 0.1\n",
    "M_perfect.Settings.du = 0.002\n",
    "M_perfect.Settings.incs = INCREMENT\n",
    "M_perfect.Settings.stepcontrol = True\n"
   ]
  },
  {
   "cell_type": "markdown",
   "metadata": {
    "colab_type": "text",
    "id": "gtn5rcIBdKXV"
   },
   "source": [
    "Second, lets add nodes into the initialized null model. Model configuration is shown be the figure below: \n",
    "\n",
    "<center>\n",
    "<img src=\"https://github.com/UCB-CE170a/Fall2020/raw/master/homeworks/hw1/images/model_configuration.png\" alt=\"A bridge.\" width=\"600\" />\n",
    "    \n",
    "    Figure 6. Trusspy model configuration \n",
    "</center>\n"
   ]
  },
  {
   "cell_type": "code",
   "execution_count": null,
   "metadata": {
    "colab": {},
    "colab_type": "code",
    "id": "XwoHHaS5jEjN"
   },
   "outputs": [],
   "source": [
    "\"\"\"\n",
    "Step 2: Add truss elements to the model \n",
    "\"\"\"\n",
    "with M_perfect.Nodes as MN:# nodes defination unit [m]\n",
    "    MN.add_node( 1, coord=(0,0,0))\n",
    "    MN.add_node( 2, coord=(0.5,0,0))\n",
    "    MN.add_node( 3, coord=(1,0,0))\n",
    "    MN.add_node( 4, coord=(0.25,0,0.25))\n",
    "    MN.add_node( 5, coord=(0.75,0,0.25))\n",
    "    MN.add_node( 6, coord=(0.5,0,0.5))\n",
    "    MN.add_node( 7, coord=(0,0.1438,0))\n",
    "    MN.add_node( 8, coord=(0.5,0.1438,0))\n",
    "    MN.add_node( 9, coord=(1,0.1438,0))\n",
    "    MN.add_node( 10, coord=(0.25,0.1438,0.25))\n",
    "    MN.add_node( 11, coord=(0.75,0.1438,0.25))\n",
    "    MN.add_node( 12, coord=(0.5,0.1438,0.5))"
   ]
  },
  {
   "cell_type": "markdown",
   "metadata": {
    "colab_type": "text",
    "id": "RNlTc8LKeRLJ"
   },
   "source": [
    "Then we link all these nodes together to construct the configuration shown by figure 6. "
   ]
  },
  {
   "cell_type": "code",
   "execution_count": null,
   "metadata": {
    "colab": {},
    "colab_type": "code",
    "id": "fmzsXAO9evsT"
   },
   "outputs": [],
   "source": [
    "\"\"\"\n",
    "Step 3: Add truss elements to the model \n",
    "\"\"\"\n",
    "with M_perfect.Elements as ME: \n",
    "    ME.add_element( 1, conn=(1,2), gprop=[A] )\n",
    "    ME.add_element( 2 ,conn=(2,3), gprop=[A] )\n",
    "    ME.add_element( 3, conn=(1,4), gprop=[A*2] )\n",
    "    ME.add_element( 4, conn=(2,4), gprop=[A] )\n",
    "    ME.add_element( 5, conn=(2,5), gprop=[A] )\n",
    "    ME.add_element( 6, conn=(3,5), gprop=[A*2] )\n",
    "    ME.add_element( 7, conn=(4,6), gprop=[A*2] )\n",
    "    ME.add_element( 8, conn=(5,6), gprop=[A*2] )\n",
    "    ME.add_element( 9, conn=(7,8), gprop=[A] )\n",
    "    ME.add_element( 10 ,conn=(8,9), gprop=[A] )\n",
    "    ME.add_element( 11, conn=(7,10), gprop=[A*2] )\n",
    "    ME.add_element( 12, conn=(8,10), gprop=[A] )\n",
    "    ME.add_element( 13, conn=(8,11), gprop=[A] )\n",
    "    ME.add_element( 14, conn=(9,11), gprop=[A*2] )\n",
    "    ME.add_element( 15, conn=(10,12), gprop=[A*2] )\n",
    "    ME.add_element( 16, conn=(11,12), gprop=[A*2] )\n",
    "    ME.add_element( 17, conn=(1,10), gprop=[A] )\n",
    "    ME.add_element( 18, conn=(4,12), gprop=[A] )\n",
    "    ME.add_element( 19, conn=(6,11), gprop=[A] )\n",
    "    ME.add_element( 20, conn=(5,9), gprop=[A] )\n",
    "    ME.add_element( 21, conn=(6,12), gprop=[A] )\n",
    "    ME.add_element( 22, conn=(6,12), gprop=[A] )\n",
    "    \n",
    "    #TODO: Connect four more node pairs to complete the model \n",
    "    ME.add_element()\n",
    "    ME.add_element()\n",
    "    ME.add_element()\n",
    "    ME.add_element()\n",
    "    \n",
    "    # assign material types to the model\n",
    "    ME.assign_etype(    'all',   ELEMENT_TYPE   )\n",
    "    ME.assign_mtype(    'all',  MATERIAL_TYPE   )\n",
    "    ME.assign_material( 'all', [YONGS_MODULUS,HARDENING_MODULUS,YIELD_STRENGH] )"
   ]
  },
  {
   "cell_type": "markdown",
   "metadata": {
    "colab_type": "text",
    "id": "eIX2JdZ9faWp"
   },
   "source": [
    "Lets assign external forces and boundary conditions to the model:"
   ]
  },
  {
   "cell_type": "code",
   "execution_count": null,
   "metadata": {
    "colab": {},
    "colab_type": "code",
    "id": "GAWQgDtlfpYD"
   },
   "outputs": [],
   "source": [
    "\"\"\"\n",
    "Step 4: Set boundary conditions and external forces\n",
    "\"\"\"\n",
    "#TODO: Fill the load \n",
    "load = \n",
    "load1=-0.5*load # front force\n",
    "load2=-0.5*load # back force\n",
    "\n",
    "with M_perfect.Boundaries as MB: # boundary-displacement\n",
    "    MB.add_bound_U( 1, (0,0,0) )\n",
    "    MB.add_bound_U( 3, (1,1,0) )\n",
    "    MB.add_bound_U( 7, (0,1,0) )\n",
    "    MB.add_bound_U( 9, (1,1,0) )\n",
    "    MB.add_bound_U( 2, (1,0,1) ) # this is a difference between our model and realistic word, since there is no joint in the real world for node 2 and 8\n",
    "    MB.add_bound_U( 8, (1,0,1) ) # since there is no joint in the real world for node 2 and 8\n",
    "    \n",
    "with M_perfect.ExtForces as MF: # boundary-force\n",
    "    MF.add_force( 6, ( 0, 0, load1) )\n",
    "    MF.add_force( 12, ( 0, 0, load2) )\n"
   ]
  },
  {
   "cell_type": "markdown",
   "metadata": {
    "colab_type": "text",
    "id": "8i6sUN6rfydk"
   },
   "source": [
    "Finally, lets build and run the model:"
   ]
  },
  {
   "cell_type": "code",
   "execution_count": null,
   "metadata": {
    "colab": {},
    "colab_type": "code",
    "id": "1x436jNIf5Lv"
   },
   "outputs": [],
   "source": [
    "\"\"\"\n",
    "Step 5: Build and run the model\n",
    "\"\"\"\n",
    "M_perfect.build()\n",
    "M_perfect.run()\n",
    "print (\"Simulation finished\")\n"
   ]
  },
  {
   "cell_type": "markdown",
   "metadata": {
    "colab_type": "text",
    "id": "HIQ_8fL7f7kR"
   },
   "source": [
    "If your model is built successfully, you will see \"Simulation finished\" on the bottom of the above cell. Run cell below to plot the model in 3D and compare to Figure 6. Make sure they are identical before proceeding.\n"
   ]
  },
  {
   "cell_type": "code",
   "execution_count": null,
   "metadata": {
    "colab": {},
    "colab_type": "code",
    "id": "RmyNUOrrf6iK"
   },
   "outputs": [],
   "source": [
    "# View the initial model in 3D\n",
    "fig, ax = M_perfect.plot_model(config=['undeformed'],\n",
    "                      view='3d', #'xy', 'yz', 'xz'\n",
    "                      contour='force',\n",
    "                      lim_scale=(-0.1,1.1,0,0.25,-0.1,0.5), #3d\n",
    "                      #lim_scale=1.4, #plane-view\n",
    "                      force_scale=0.00005, #2\n",
    "                      inc=0)"
   ]
  },
  {
   "cell_type": "markdown",
   "metadata": {
    "colab_type": "text",
    "id": "GBPRdgybgxb2"
   },
   "source": [
    "Trusspy allows us to view the deformation in 3D: "
   ]
  },
  {
   "cell_type": "code",
   "execution_count": null,
   "metadata": {
    "colab": {},
    "colab_type": "code",
    "id": "t7xGzmtmgoHF"
   },
   "outputs": [],
   "source": [
    "  fig, ax = M_perfect.plot_model(config=['deformed'],\n",
    "                        view='3d', #'xy', 'yz', 'xz'\n",
    "                        contour='force',\n",
    "                        lim_scale=(-0.1,1.1,0,0.25,-0.1,0.5), #3d\n",
    "                        #lim_scale=1.4, #plane-view\n",
    "                        force_scale=0.00005, #2\n",
    "                        inc=-1)"
   ]
  },
  {
   "cell_type": "markdown",
   "metadata": {
    "colab_type": "text",
    "id": "82T3Me8Ig9Be"
   },
   "source": [
    "And in 2d views:"
   ]
  },
  {
   "cell_type": "code",
   "execution_count": null,
   "metadata": {
    "colab": {},
    "colab_type": "code",
    "id": "h2ZoCsIWrlUG"
   },
   "outputs": [],
   "source": [
    "# \"Deformed model in xz plane view\"\n",
    "fig, ax = M_perfect.plot_model(config=['deformed'],\n",
    "                        view='xz',\n",
    "                        contour='force',\n",
    "                        lim_scale=1.3,\n",
    "                        force_scale=0.00005,\n",
    "                        inc=-1)\n",
    "\n",
    "# Deformed model in xy plane'\n",
    "fig, ax = M_perfect.plot_model(config=['deformed'],\n",
    "                        view='xy',\n",
    "                        contour='force',\n",
    "                        lim_scale=1.3,\n",
    "                        force_scale=0.00005,\n",
    "                        inc=-1)"
   ]
  },
  {
   "cell_type": "markdown",
   "metadata": {
    "colab_type": "text",
    "id": "DUgSocBfjvR6"
   },
   "source": [
    "## Plot elements responses during loading. \n"
   ]
  },
  {
   "cell_type": "markdown",
   "metadata": {
    "colab_type": "text",
    "id": "TGvkmU6mkxzW"
   },
   "source": [
    "We are going to create some help functions to assess elements responses of the model during the loading process. Again, run all the cells and **fill the TODO** parts if necessary. \n",
    "\n",
    "First, lets create a function to get the internal forces of a truss element with respect to the load proportionality factor (LPFs).  \n",
    "\n",
    "LPF = applied load/design load (which is 3500N in this case) "
   ]
  },
  {
   "cell_type": "code",
   "execution_count": null,
   "metadata": {
    "colab": {},
    "colab_type": "code",
    "id": "bslAFp3GlFea"
   },
   "outputs": [],
   "source": [
    "def get_internal_forces(M,elem): \n",
    "  \"\"\"Get internal force of a element\n",
    "    Args:\n",
    "      M: trusspy model \n",
    "      elem: the element index of interest\n",
    "\n",
    "    Returns:\n",
    "      lpfs is a list of loading proportionality factor for this elem\n",
    "      forces is a list of internal force for this elem regarding to lpfs\n",
    "  \"\"\"\n",
    "  Res=M.Results.R\n",
    "  lpfs,forces = [],[]\n",
    "  for r in Res:\n",
    "      force =r.element_force[elem-1]# element names is 1 based whereas list index is 0 based\n",
    "      lpfs.append(r.lpf)\n",
    "      forces.append(force[0])\n",
    "  return lpfs,forces\n"
   ]
  },
  {
   "cell_type": "markdown",
   "metadata": {
    "colab_type": "text",
    "id": "44YrzmzAlGHG"
   },
   "source": [
    "Using the extracted force to create a function that computes stresses of a element regarding to LPFs: "
   ]
  },
  {
   "cell_type": "code",
   "execution_count": null,
   "metadata": {
    "colab": {},
    "colab_type": "code",
    "id": "y8hDLH9Xld5-"
   },
   "outputs": [],
   "source": [
    "def get_stresses(M,elem):\n",
    "  \"\"\"Get stress of a element\n",
    "    Args:\n",
    "      M: trusspy model \n",
    "      elem: the element index of interest\n",
    "\n",
    "    Returns:\n",
    "      lpfs is a list of loading proportionality factor for this elem\n",
    "      stresses is a list of stress for this elem regarding to lpfs\n",
    "  \"\"\"\n",
    "  area = M.Elements.geometric_properties[elem-1][0]# element names is 1 based whereas list index is 0 based\n",
    "  lpfs,forces = get_internal_forces(M,elem)\n",
    "\n",
    "  # TODO: Compute stresses from the internal forces\n",
    "  stresses = \n",
    "  return lpfs,stresses"
   ]
  },
  {
   "cell_type": "markdown",
   "metadata": {
    "colab_type": "text",
    "id": "CVYuxFvTlffv"
   },
   "source": [
    "Now, lets compute strains. "
   ]
  },
  {
   "cell_type": "code",
   "execution_count": null,
   "metadata": {
    "colab": {},
    "colab_type": "code",
    "id": "Wyokeb0Bllov"
   },
   "outputs": [],
   "source": [
    "def get_strains(M,elem): \n",
    "  \"\"\"Get strain of a element\n",
    "    Args:\n",
    "      M: trusspy model \n",
    "      elem: the element index of interest\n",
    "\n",
    "    Returns:\n",
    "      lpfs is a list of loading proportionality factor for this elem\n",
    "      strains is a list of strain for this elem regarding to lpfs\n",
    "  \"\"\"\n",
    "  E=M.Elements.material_properties[elem-1][0]\n",
    "  lpfs,stresses = get_stresses(M,elem)\n",
    "\n",
    "  # TODO: Compute strains from the internal forces\n",
    "  strains=\n",
    "  return lpfs,strains"
   ]
  },
  {
   "cell_type": "markdown",
   "metadata": {
    "colab_type": "text",
    "id": "fm8CtyAzloF_"
   },
   "source": [
    "And rotation degrees of a element. "
   ]
  },
  {
   "cell_type": "code",
   "execution_count": null,
   "metadata": {
    "colab": {},
    "colab_type": "code",
    "id": "3NV0TlCXj-AK"
   },
   "outputs": [],
   "source": [
    "def get_rotation_degrees(M,elem):\n",
    "  \"\"\"Get rotation degrees of a element\n",
    "    Args:\n",
    "      M: trusspy model \n",
    "      elem: the element index of interest\n",
    "\n",
    "    Returns:\n",
    "      lpfs is a list of loading proportionality factor for this elem\n",
    "      degrees is a list of rotation degree for this elem regarding to lpfs\n",
    "  \"\"\"\n",
    "  con=M.Elements.conns[elem-1] # element names is 1 based whereas list index is 0 based\n",
    "  node1,node2 =con[0], con[1]\n",
    "  coord1,coord2=M.Nodes.coords[node1-1], M.Nodes.coords[node2-1]# node names is 1 based whereas list index is 0 based\n",
    "  r_before = coord2-coord1 #initial vector representation of the truss element\n",
    "\n",
    "  Res=M.Results.R\n",
    "  lpfs,degrees = [],[]\n",
    "  for Re in Res:\n",
    "      n1_displacement = Re.U[node1-1]\n",
    "      n2_displacement = Re.U[node2-1]\n",
    "        \n",
    "      # TODO: Get the coordinates of the two nodes after stressing. \n",
    "      coord1_after = \n",
    "      coord2_after = \n",
    "      # TODO: Use all the information to get the rotation degree:theta \n",
    "      # Hint: How do you get the angle of two vector? np.dot might be helpful\n",
    "      \n",
    "      theta = \n",
    "      lpfs.append(Re.lpf)\n",
    "      degrees.append(theta)\n",
    "  return lpfs,degrees\n",
    "\n"
   ]
  },
  {
   "cell_type": "markdown",
   "metadata": {
    "colab_type": "text",
    "id": "psyNG6oUl7Ud"
   },
   "source": [
    "Using the created plot the following with increasing load (Load Proportionality Ratios)."
   ]
  },
  {
   "cell_type": "markdown",
   "metadata": {
    "colab_type": "text",
    "id": "lgpBkSM8Z5bd"
   },
   "source": [
    "### Q1 a): Strains and rotations in element L2\n",
    "\n",
    "\n",
    "\n",
    "\n",
    "\n"
   ]
  },
  {
   "cell_type": "markdown",
   "metadata": {
    "colab_type": "text",
    "id": "iJk2zXBnoYVs"
   },
   "source": [
    "What is the internal force and rotation of L2 when LPF is around 1? (use the closest LPF and the corresponding values). Compare values from simulation to your results in Quiz1. "
   ]
  },
  {
   "cell_type": "code",
   "execution_count": null,
   "metadata": {
    "colab": {},
    "colab_type": "code",
    "id": "DqP1JIJpqBFd"
   },
   "outputs": [],
   "source": [
    "#TODO code to get the value "
   ]
  },
  {
   "cell_type": "markdown",
   "metadata": {
    "colab_type": "text",
    "id": "jsiKY6XRp-lU"
   },
   "source": [
    "<font color=”blue”> Your Answer </font> : "
   ]
  },
  {
   "cell_type": "code",
   "execution_count": null,
   "metadata": {
    "colab": {},
    "colab_type": "code",
    "id": "n29kolY0Xj8Y"
   },
   "outputs": [],
   "source": [
    "#TODO strain plot\n",
    "lpf,epis= \n",
    "plt.plot(lpf,epis,label='L2 strain')\n",
    "plt.xlabel('LPF')\n",
    "plt.ylabel('Strain')\n",
    "plt.legend()\n"
   ]
  },
  {
   "cell_type": "code",
   "execution_count": null,
   "metadata": {
    "colab": {},
    "colab_type": "code",
    "id": "UJAktqBAVW31"
   },
   "outputs": [],
   "source": [
    "#TODO rotation plot\n",
    "lpf,thetas= \n",
    "plt.plot(lpf,thetas,label='L2 Rotation')\n",
    "plt.xlabel('LPF')\n",
    "plt.ylabel('Rotation/rad')\n",
    "plt.legend()"
   ]
  },
  {
   "cell_type": "markdown",
   "metadata": {
    "colab_type": "text",
    "id": "j4OPIs-8jhvE"
   },
   "source": [
    "### Q1 b): Expected expansion of element L1\n",
    "\n"
   ]
  },
  {
   "cell_type": "markdown",
   "metadata": {
    "colab_type": "text",
    "id": "YTdMSFq0sc8P"
   },
   "source": [
    "Fill the function below to use strains to find expansions."
   ]
  },
  {
   "cell_type": "code",
   "execution_count": null,
   "metadata": {
    "colab": {},
    "colab_type": "code",
    "id": "ZnVMoQLTWV-E"
   },
   "outputs": [],
   "source": [
    "def calculate_distance(coord1,coord2):\n",
    "  \"\"\"Calculate the distance of two points\n",
    "    Args:\n",
    "      coord1: coordinate of point (node) 1\n",
    "      coord2: coordinate of point (node) 2\n",
    "\n",
    "    Returns:\n",
    "      L: distance between two points\n",
    "    \"\"\"\n",
    "  #TODO: Calculate the distance of two points using numpy library\n",
    "  L=\n",
    "  return L\n",
    "\n",
    "\n",
    "def get_expansion(M,elem):\n",
    "  \"\"\"Get expansion of a element\n",
    "    Args:\n",
    "      M: trusspy model \n",
    "      elem: the element index of interest\n",
    "\n",
    "    Returns:\n",
    "      lpfs is a list of loading proportionality factor for this elem\n",
    "      expansions is a list of expansions for this elem regarding to lpfs\n",
    "  \"\"\"\n",
    "  con=M.Elements.conns[elem-1] # element names is 1 based whereas list index is 0 based\n",
    "  con1=con[0]\n",
    "  con2=con[1]\n",
    "  nc1=M.Nodes.coords[con1-1]\n",
    "  nc2=M.Nodes.coords[con2-1]\n",
    "    \n",
    "  # TODO: Compute the expansion\n",
    "  # HINT: Use the strain function    \n",
    "  L=calculate_distance(nc1,nc2) # fill the function above to do the distance calculation\n",
    "\n",
    "  expansions = \n",
    "  return lpfs,expansions\n"
   ]
  },
  {
   "cell_type": "markdown",
   "metadata": {
    "colab_type": "text",
    "id": "LUU_-T8Xrn4x"
   },
   "source": [
    "What is the expected expansion of L1 when LPF is around 1? (use the closest LPF and the corresponding values). Compare values from simulation to your results in Quiz1. "
   ]
  },
  {
   "cell_type": "code",
   "execution_count": null,
   "metadata": {
    "colab": {},
    "colab_type": "code",
    "id": "uf5m_-xWr0Zw"
   },
   "outputs": [],
   "source": [
    "#TODO code to get the value "
   ]
  },
  {
   "cell_type": "markdown",
   "metadata": {
    "colab_type": "text",
    "id": "fP03kW8Kuqvu"
   },
   "source": [
    "<font color=”blue”> Your Answer </font> : "
   ]
  },
  {
   "cell_type": "code",
   "execution_count": null,
   "metadata": {
    "colab": {},
    "colab_type": "code",
    "id": "ljPkh3EBtyC_"
   },
   "outputs": [],
   "source": [
    "#TODO expansion plot\n",
    "lpf,exp= \n",
    "plt.figure()\n",
    "plt.plot(lpf,exp,label='L1 expansion')\n",
    "plt.xlabel('LPF')\n",
    "plt.ylabel('Expansion (m)')\n",
    "plt.legend()"
   ]
  },
  {
   "cell_type": "markdown",
   "metadata": {
    "colab_type": "text",
    "id": "MO48SlIBjjGw"
   },
   "source": [
    "### Q1 c): Expected loads in braces: L4, L5 and Ts."
   ]
  },
  {
   "cell_type": "markdown",
   "metadata": {
    "colab_type": "text",
    "id": "2dCVFFEUs4BW"
   },
   "source": [
    "What is the expected loads of these braces when LPF is around 1? (use the closest LPF and the corresponding values). Compare values from simulation to your results in Quiz1. "
   ]
  },
  {
   "cell_type": "code",
   "execution_count": null,
   "metadata": {
    "colab": {},
    "colab_type": "code",
    "id": "E8aknT3Ts9DB"
   },
   "outputs": [],
   "source": [
    "#TODO codes to get the answer \n"
   ]
  },
  {
   "cell_type": "markdown",
   "metadata": {
    "colab_type": "text",
    "id": "20S-p2kjtdFA"
   },
   "source": [
    "<font color=”blue”> Your Answer </font> : "
   ]
  },
  {
   "cell_type": "code",
   "execution_count": null,
   "metadata": {
    "colab": {},
    "colab_type": "code",
    "id": "tnkrw4BNV9rh"
   },
   "outputs": [],
   "source": [
    "#TODO L4 plots\n",
    "lpf,force= \n",
    "plt.plot(lpf,force,label='L4 internal force')\n",
    "plt.xlabel('LPF')\n",
    "plt.ylabel('internal force/N')\n",
    "plt.legend()\n",
    "\n",
    "#TODO L5 plots\n",
    "lpf,force= \n",
    "plt.plot(lpf,force,label='L5 internal force')\n",
    "plt.xlabel('LPF')\n",
    "plt.ylabel('internal force/N')\n",
    "plt.legend()\n",
    "\n"
   ]
  },
  {
   "cell_type": "code",
   "execution_count": null,
   "metadata": {
    "colab": {},
    "colab_type": "code",
    "id": "PEyddROTX_dK"
   },
   "outputs": [],
   "source": [
    "#TODO Ts plots\n",
    "lpf,force= \n",
    "plt.plot(lpf,force,label='T1 internal force')\n",
    "lpf,force= \n",
    "plt.plot(lpf,force,label='T2 internal force')\n",
    "lpf,force= \n",
    "plt.plot(lpf,force,label='T3 internal force')\n",
    "lpf,force= \n",
    "plt.plot(lpf,force,label='T4 internal force')\n",
    "lpf,force= \n",
    "plt.plot(lpf,force,label='T5 internal force')\n",
    "plt.xlabel('LPF')\n",
    "plt.ylabel('internal force/N')\n",
    "plt.legend()"
   ]
  },
  {
   "cell_type": "markdown",
   "metadata": {
    "colab_type": "text",
    "id": "3Cq2vX5xKsvP"
   },
   "source": [
    "## Question 2"
   ]
  },
  {
   "cell_type": "markdown",
   "metadata": {
    "colab_type": "text",
    "id": "GFtj7goKKsvQ"
   },
   "source": [
    "This model bridge is designed to carry loads without collapse at this working load and the factor of safety to collapse is FS>2.0 (or when the load proportionality factor is greater than 2). Discuss possible failure mechanisms of the model bridge."
   ]
  },
  {
   "cell_type": "markdown",
   "metadata": {
    "colab_type": "text",
    "id": "y_rqUofcKsvQ"
   },
   "source": [
    "<font color=”blue”> Your Answer </font> : "
   ]
  }
 ],
 "metadata": {
  "colab": {
   "name": "Assignment1-student.ipynb",
   "provenance": []
  },
  "kernelspec": {
   "display_name": "Python 3",
   "language": "python",
   "name": "python3"
  },
  "language_info": {
   "codemirror_mode": {
    "name": "ipython",
    "version": 3
   },
   "file_extension": ".py",
   "mimetype": "text/x-python",
   "name": "python",
   "nbconvert_exporter": "python",
   "pygments_lexer": "ipython3",
   "version": "3.6.8"
  }
 },
 "nbformat": 4,
 "nbformat_minor": 1
}
